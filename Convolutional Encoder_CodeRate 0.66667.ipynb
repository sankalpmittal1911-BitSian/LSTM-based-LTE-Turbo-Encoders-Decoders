{
  "nbformat": 4,
  "nbformat_minor": 0,
  "metadata": {
    "colab": {
      "name": "Untitled11.ipynb",
      "version": "0.3.2",
      "provenance": [],
      "collapsed_sections": []
    },
    "kernelspec": {
      "name": "python3",
      "display_name": "Python 3"
    },
    "accelerator": "GPU"
  },
  "cells": [
    {
      "metadata": {
        "id": "buI7_5zImqWe",
        "colab_type": "code",
        "outputId": "259f4f16-30b9-4671-cf7c-f7387b6e21c6",
        "colab": {
          "base_uri": "https://localhost:8080/",
          "height": 407
        }
      },
      "cell_type": "code",
      "source": [
        "\n",
        "from keras.layers import LSTM\n",
        "from keras.models import Sequential\n",
        "from keras.layers import LSTM\n",
        "from keras.layers import Dense,BatchNormalization\n",
        "model = Sequential()\n",
        "model.add(LSTM(800, return_sequences=True,\n",
        "               input_shape=(1, 10)))  \n",
        "model.add(BatchNormalization())  \n",
        "model.add(LSTM(800))  \n",
        "model.add(BatchNormalization())\n",
        "model.add(Dense(15, activation='sigmoid'))\n",
        "\n",
        "model.compile(loss='binary_crossentropy', optimizer='Adam',metrics=['accuracy'])\n",
        "\n",
        "\n",
        "model.summary()"
      ],
      "execution_count": 0,
      "outputs": [
        {
          "output_type": "stream",
          "text": [
            "Using TensorFlow backend.\n"
          ],
          "name": "stderr"
        },
        {
          "output_type": "stream",
          "text": [
            "WARNING:tensorflow:From /usr/local/lib/python3.6/dist-packages/tensorflow/python/framework/op_def_library.py:263: colocate_with (from tensorflow.python.framework.ops) is deprecated and will be removed in a future version.\n",
            "Instructions for updating:\n",
            "Colocations handled automatically by placer.\n",
            "_________________________________________________________________\n",
            "Layer (type)                 Output Shape              Param #   \n",
            "=================================================================\n",
            "lstm_1 (LSTM)                (None, 1, 800)            2595200   \n",
            "_________________________________________________________________\n",
            "batch_normalization_1 (Batch (None, 1, 800)            3200      \n",
            "_________________________________________________________________\n",
            "lstm_2 (LSTM)                (None, 800)               5123200   \n",
            "_________________________________________________________________\n",
            "batch_normalization_2 (Batch (None, 800)               3200      \n",
            "_________________________________________________________________\n",
            "dense_1 (Dense)              (None, 15)                12015     \n",
            "=================================================================\n",
            "Total params: 7,736,815\n",
            "Trainable params: 7,733,615\n",
            "Non-trainable params: 3,200\n",
            "_________________________________________________________________\n"
          ],
          "name": "stdout"
        }
      ]
    },
    {
      "metadata": {
        "id": "7TzCzEvip5dm",
        "colab_type": "code",
        "outputId": "ad7051be-175c-426e-d213-a48ecdb0c296",
        "colab": {
          "base_uri": "https://localhost:8080/",
          "height": 35
        }
      },
      "cell_type": "code",
      "source": [
        "from google.colab import drive\n",
        "drive.mount('/content/drive')"
      ],
      "execution_count": 0,
      "outputs": [
        {
          "output_type": "stream",
          "text": [
            "Drive already mounted at /content/drive; to attempt to forcibly remount, call drive.mount(\"/content/drive\", force_remount=True).\n"
          ],
          "name": "stdout"
        }
      ]
    },
    {
      "metadata": {
        "id": "xYvG6jSO5ZSJ",
        "colab_type": "code",
        "outputId": "cf99fc9f-71ba-459a-832f-8e78ba0de7ae",
        "colab": {
          "base_uri": "https://localhost:8080/",
          "height": 85
        }
      },
      "cell_type": "code",
      "source": [
        "import numpy as np\n",
        "f = open('/content/drive/My Drive/Input.txt', 'r')\n",
        "x = f.readlines()\n",
        "f.close()\n",
        "p=[]\n",
        "q=[]\n",
        "\n",
        "for i in x:\n",
        "  for j in i:\n",
        "    if(j!='\\n' and j!=' '):\n",
        "      p.append(int(j))\n",
        "  if(p):\n",
        "    p=np.array(p[5:])\n",
        "    q.append(p)\n",
        "  p=[]\n",
        "      \n",
        "    \n",
        "    \n",
        "q=np.array(q)\n",
        "print(q.shape)\n",
        "print(type(q[1][2]))\n",
        "\n",
        "q=q.reshape(501,1,10)\n",
        "print(q.shape)\n",
        "\n",
        "f = open('/content/drive/My Drive/Output.txt', 'r')\n",
        "x = f.readlines()\n",
        "f.close()\n",
        "\n",
        "l=[]\n",
        "m=[]\n",
        "\n",
        "#print(x)\n",
        "\n",
        "for i in x:\n",
        "  for j in i:\n",
        "    if(j!='\\n' and j!=' '):\n",
        "      l.append(int(j))\n",
        "  if(l):\n",
        "    l=np.array(l)\n",
        "    m.append(l)\n",
        "  l=[]\n",
        "      \n",
        "\n",
        "m=np.array(m)\n",
        "print(m.shape)"
      ],
      "execution_count": 0,
      "outputs": [
        {
          "output_type": "stream",
          "text": [
            "(501, 10)\n",
            "<class 'numpy.int64'>\n",
            "(501, 1, 10)\n",
            "(501, 15)\n"
          ],
          "name": "stdout"
        }
      ]
    },
    {
      "metadata": {
        "id": "memxrXt05-M5",
        "colab_type": "code",
        "outputId": "e793c79b-9758-4971-ce39-531746ac2a3d",
        "colab": {
          "base_uri": "https://localhost:8080/",
          "height": 1734
        }
      },
      "cell_type": "code",
      "source": [
        "history=model.fit(x=q, y=m, batch_size=10, epochs=50, verbose=1, validation_split=0.2 ,shuffle=True)"
      ],
      "execution_count": 0,
      "outputs": [
        {
          "output_type": "stream",
          "text": [
            "Train on 400 samples, validate on 101 samples\n",
            "Epoch 1/50\n",
            "400/400 [==============================] - 5s 13ms/step - loss: 0.6685 - acc: 0.7153 - val_loss: 0.5534 - val_acc: 0.7479\n",
            "Epoch 2/50\n",
            "400/400 [==============================] - 1s 3ms/step - loss: 0.3914 - acc: 0.7885 - val_loss: 0.3994 - val_acc: 0.8112\n",
            "Epoch 3/50\n",
            "400/400 [==============================] - 1s 3ms/step - loss: 0.3381 - acc: 0.8203 - val_loss: 0.3381 - val_acc: 0.8264\n",
            "Epoch 4/50\n",
            "400/400 [==============================] - 1s 3ms/step - loss: 0.2888 - acc: 0.8513 - val_loss: 0.2846 - val_acc: 0.8568\n",
            "Epoch 5/50\n",
            "400/400 [==============================] - 1s 3ms/step - loss: 0.2565 - acc: 0.8767 - val_loss: 0.2690 - val_acc: 0.8620\n",
            "Epoch 6/50\n",
            "400/400 [==============================] - 1s 3ms/step - loss: 0.2331 - acc: 0.8952 - val_loss: 0.2375 - val_acc: 0.8937\n",
            "Epoch 7/50\n",
            "400/400 [==============================] - 1s 3ms/step - loss: 0.2121 - acc: 0.9010 - val_loss: 0.1941 - val_acc: 0.9063\n",
            "Epoch 8/50\n",
            "400/400 [==============================] - 1s 3ms/step - loss: 0.1775 - acc: 0.9257 - val_loss: 0.1838 - val_acc: 0.9195\n",
            "Epoch 9/50\n",
            "400/400 [==============================] - 1s 3ms/step - loss: 0.1690 - acc: 0.9280 - val_loss: 0.1453 - val_acc: 0.9267\n",
            "Epoch 10/50\n",
            "400/400 [==============================] - 1s 3ms/step - loss: 0.1441 - acc: 0.9412 - val_loss: 0.1338 - val_acc: 0.9406\n",
            "Epoch 11/50\n",
            "400/400 [==============================] - 1s 3ms/step - loss: 0.1404 - acc: 0.9460 - val_loss: 0.1197 - val_acc: 0.9446\n",
            "Epoch 12/50\n",
            "400/400 [==============================] - 1s 3ms/step - loss: 0.1335 - acc: 0.9448 - val_loss: 0.1151 - val_acc: 0.9498\n",
            "Epoch 13/50\n",
            "400/400 [==============================] - 1s 3ms/step - loss: 0.1215 - acc: 0.9505 - val_loss: 0.1077 - val_acc: 0.9538\n",
            "Epoch 14/50\n",
            "400/400 [==============================] - 1s 3ms/step - loss: 0.1304 - acc: 0.9450 - val_loss: 0.1047 - val_acc: 0.9571\n",
            "Epoch 15/50\n",
            "400/400 [==============================] - 1s 3ms/step - loss: 0.1013 - acc: 0.9600 - val_loss: 0.0841 - val_acc: 0.9611\n",
            "Epoch 16/50\n",
            "400/400 [==============================] - 1s 3ms/step - loss: 0.1094 - acc: 0.9572 - val_loss: 0.0976 - val_acc: 0.9578\n",
            "Epoch 17/50\n",
            "400/400 [==============================] - 1s 3ms/step - loss: 0.0965 - acc: 0.9638 - val_loss: 0.0894 - val_acc: 0.9597\n",
            "Epoch 18/50\n",
            "400/400 [==============================] - 1s 3ms/step - loss: 0.0953 - acc: 0.9652 - val_loss: 0.0787 - val_acc: 0.9650\n",
            "Epoch 19/50\n",
            "400/400 [==============================] - 1s 3ms/step - loss: 0.0948 - acc: 0.9647 - val_loss: 0.0802 - val_acc: 0.9650\n",
            "Epoch 20/50\n",
            "400/400 [==============================] - 1s 3ms/step - loss: 0.1089 - acc: 0.9592 - val_loss: 0.0705 - val_acc: 0.9716\n",
            "Epoch 21/50\n",
            "400/400 [==============================] - 1s 3ms/step - loss: 0.0886 - acc: 0.9680 - val_loss: 0.0691 - val_acc: 0.9743\n",
            "Epoch 22/50\n",
            "400/400 [==============================] - 1s 3ms/step - loss: 0.0924 - acc: 0.9668 - val_loss: 0.0573 - val_acc: 0.9762\n",
            "Epoch 23/50\n",
            "400/400 [==============================] - 1s 3ms/step - loss: 0.0797 - acc: 0.9738 - val_loss: 0.0509 - val_acc: 0.9802\n",
            "Epoch 24/50\n",
            "400/400 [==============================] - 1s 3ms/step - loss: 0.0815 - acc: 0.9713 - val_loss: 0.0525 - val_acc: 0.9795\n",
            "Epoch 25/50\n",
            "400/400 [==============================] - 1s 3ms/step - loss: 0.0867 - acc: 0.9678 - val_loss: 0.0528 - val_acc: 0.9802\n",
            "Epoch 26/50\n",
            "400/400 [==============================] - 1s 3ms/step - loss: 0.1024 - acc: 0.9595 - val_loss: 0.0520 - val_acc: 0.9769\n",
            "Epoch 27/50\n",
            "400/400 [==============================] - 1s 3ms/step - loss: 0.0787 - acc: 0.9732 - val_loss: 0.0413 - val_acc: 0.9828\n",
            "Epoch 28/50\n",
            "400/400 [==============================] - 1s 3ms/step - loss: 0.0714 - acc: 0.9753 - val_loss: 0.0378 - val_acc: 0.9861\n",
            "Epoch 29/50\n",
            "400/400 [==============================] - 1s 3ms/step - loss: 0.0673 - acc: 0.9770 - val_loss: 0.0357 - val_acc: 0.9835\n",
            "Epoch 30/50\n",
            "400/400 [==============================] - 1s 3ms/step - loss: 0.0728 - acc: 0.9755 - val_loss: 0.0433 - val_acc: 0.9782\n",
            "Epoch 31/50\n",
            "400/400 [==============================] - 1s 3ms/step - loss: 0.0644 - acc: 0.9768 - val_loss: 0.0418 - val_acc: 0.9802\n",
            "Epoch 32/50\n",
            "400/400 [==============================] - 1s 3ms/step - loss: 0.0654 - acc: 0.9772 - val_loss: 0.0397 - val_acc: 0.9842\n",
            "Epoch 33/50\n",
            "400/400 [==============================] - 1s 3ms/step - loss: 0.0737 - acc: 0.9727 - val_loss: 0.0381 - val_acc: 0.9855\n",
            "Epoch 34/50\n",
            "400/400 [==============================] - 1s 3ms/step - loss: 0.0659 - acc: 0.9752 - val_loss: 0.0329 - val_acc: 0.9815\n",
            "Epoch 35/50\n",
            "400/400 [==============================] - 1s 3ms/step - loss: 0.0590 - acc: 0.9792 - val_loss: 0.0283 - val_acc: 0.9908\n",
            "Epoch 36/50\n",
            "400/400 [==============================] - 1s 3ms/step - loss: 0.0670 - acc: 0.9768 - val_loss: 0.0289 - val_acc: 0.9888\n",
            "Epoch 37/50\n",
            "400/400 [==============================] - 1s 3ms/step - loss: 0.0608 - acc: 0.9770 - val_loss: 0.0238 - val_acc: 0.9901\n",
            "Epoch 38/50\n",
            "400/400 [==============================] - 1s 3ms/step - loss: 0.0520 - acc: 0.9802 - val_loss: 0.0232 - val_acc: 0.9888\n",
            "Epoch 39/50\n",
            "400/400 [==============================] - 1s 3ms/step - loss: 0.0531 - acc: 0.9835 - val_loss: 0.0207 - val_acc: 0.9921\n",
            "Epoch 40/50\n",
            "400/400 [==============================] - 1s 3ms/step - loss: 0.0524 - acc: 0.9827 - val_loss: 0.0188 - val_acc: 0.9921\n",
            "Epoch 41/50\n",
            "400/400 [==============================] - 1s 3ms/step - loss: 0.0620 - acc: 0.9777 - val_loss: 0.0202 - val_acc: 0.9914\n",
            "Epoch 42/50\n",
            "400/400 [==============================] - 1s 3ms/step - loss: 0.0738 - acc: 0.9720 - val_loss: 0.0203 - val_acc: 0.9921\n",
            "Epoch 43/50\n",
            "400/400 [==============================] - 1s 3ms/step - loss: 0.0765 - acc: 0.9707 - val_loss: 0.0173 - val_acc: 0.9960\n",
            "Epoch 44/50\n",
            "400/400 [==============================] - 1s 3ms/step - loss: 0.0683 - acc: 0.9762 - val_loss: 0.0194 - val_acc: 0.9934\n",
            "Epoch 45/50\n",
            "400/400 [==============================] - 1s 3ms/step - loss: 0.0775 - acc: 0.9707 - val_loss: 0.0230 - val_acc: 0.9914\n",
            "Epoch 46/50\n",
            "400/400 [==============================] - 1s 3ms/step - loss: 0.0632 - acc: 0.9760 - val_loss: 0.0207 - val_acc: 0.9921\n",
            "Epoch 47/50\n",
            "400/400 [==============================] - 1s 3ms/step - loss: 0.0595 - acc: 0.9778 - val_loss: 0.0181 - val_acc: 0.9947\n",
            "Epoch 48/50\n",
            "400/400 [==============================] - 1s 3ms/step - loss: 0.0606 - acc: 0.9767 - val_loss: 0.0215 - val_acc: 0.9927\n",
            "Epoch 49/50\n",
            "400/400 [==============================] - 1s 3ms/step - loss: 0.0602 - acc: 0.9790 - val_loss: 0.0172 - val_acc: 0.9947\n",
            "Epoch 50/50\n",
            "400/400 [==============================] - 1s 3ms/step - loss: 0.0559 - acc: 0.9803 - val_loss: 0.0180 - val_acc: 0.9947\n"
          ],
          "name": "stdout"
        }
      ]
    },
    {
      "metadata": {
        "id": "sD-I0bPGmJMc",
        "colab_type": "code",
        "outputId": "ef5c5982-c45d-45e9-c20a-9f4f4111423a",
        "colab": {
          "base_uri": "https://localhost:8080/",
          "height": 752
        }
      },
      "cell_type": "code",
      "source": [
        "print(history.history.keys())\n",
        "# summarize history for accuracy\n",
        "plt.plot(history.history['acc'])\n",
        "plt.plot(history.history['val_acc'])\n",
        "plt.title('model accuracy')\n",
        "plt.ylabel('accuracy')\n",
        "plt.xlabel('epoch')\n",
        "plt.legend(['train', 'validation'], loc='upper left')\n",
        "plt.show()\n",
        "# summarize history for loss\n",
        "plt.plot(history.history['loss'])\n",
        "plt.plot(history.history['val_loss'])\n",
        "plt.title('model loss')\n",
        "plt.ylabel('loss')\n",
        "plt.xlabel('epoch')\n",
        "plt.legend(['train', 'validation'], loc='upper left')\n",
        "plt.show()"
      ],
      "execution_count": 0,
      "outputs": [
        {
          "output_type": "stream",
          "text": [
            "dict_keys(['val_loss', 'val_acc', 'loss', 'acc'])\n"
          ],
          "name": "stdout"
        },
        {
          "output_type": "display_data",
          "data": {
            "image/png": "[encoded data removed]",
            "text/plain": [
              "<Figure size 576x396 with 1 Axes>"
            ]
          },
          "metadata": {
            "tags": []
          }
        },
        {
          "output_type": "display_data",
          "data": {
            "image/png": "[encoded data removed]",
            "text/plain": [
              "<Figure size 576x396 with 1 Axes>"
            ]
          },
          "metadata": {
            "tags": []
          }
        }
      ]
    },
    {
      "metadata": {
        "id": "8MhxPoOO-tYS",
        "colab_type": "code",
        "outputId": "7f53628f-6f35-434c-e9b4-761fb0341edf",
        "colab": {
          "base_uri": "https://localhost:8080/",
          "height": 51
        }
      },
      "cell_type": "code",
      "source": [
        "model.evaluate(x=q,y=m,batch_size=10)"
      ],
      "execution_count": 0,
      "outputs": [
        {
          "output_type": "stream",
          "text": [
            "501/501 [==============================] - 0s 646us/step\n"
          ],
          "name": "stdout"
        },
        {
          "output_type": "execute_result",
          "data": {
            "text/plain": [
              "[0.004799739388944656, 0.9989354634237385]"
            ]
          },
          "metadata": {
            "tags": []
          },
          "execution_count": 47
        }
      ]
    },
    {
      "metadata": {
        "id": "29HAKEvC0pKS",
        "colab_type": "code",
        "outputId": "5195d2d4-5edd-46dd-d4c5-6fae588be077",
        "colab": {
          "base_uri": "https://localhost:8080/",
          "height": 238
        }
      },
      "cell_type": "code",
      "source": [
        "var = model.predict(q)\n",
        "print(var)"
      ],
      "execution_count": 0,
      "outputs": [
        {
          "output_type": "stream",
          "text": [
            "[[9.9997044e-01 9.9999213e-01 9.9999475e-01 ... 3.5420060e-04\n",
            "  9.8495913e-01 9.9973762e-01]\n",
            " [5.6624413e-07 9.8347664e-06 3.5762787e-07 ... 1.3175309e-03\n",
            "  9.8949587e-01 9.9998736e-01]\n",
            " [9.9999774e-01 9.9999928e-01 9.9999976e-01 ... 9.9963301e-01\n",
            "  9.9584961e-01 1.3060868e-03]\n",
            " ...\n",
            " [2.3245811e-06 2.9802322e-07 1.2814999e-06 ... 9.9992192e-01\n",
            "  8.3601594e-01 9.9857879e-01]\n",
            " [9.9999982e-01 9.9999988e-01 9.9999738e-01 ... 1.2606382e-05\n",
            "  6.9831312e-03 1.1992157e-03]\n",
            " [1.7881393e-07 2.2649765e-06 1.0937452e-05 ... 1.1287213e-03\n",
            "  9.9799192e-01 9.9997091e-01]]\n"
          ],
          "name": "stdout"
        }
      ]
    },
    {
      "metadata": {
        "id": "7J1jgFh5Df__",
        "colab_type": "code",
        "outputId": "8dfe0aaf-e0fc-4f7a-bba5-536c2b44e21b",
        "colab": {
          "base_uri": "https://localhost:8080/",
          "height": 34
        }
      },
      "cell_type": "code",
      "source": [
        "print(var.shape)"
      ],
      "execution_count": 0,
      "outputs": [
        {
          "output_type": "stream",
          "text": [
            "(501, 15)\n"
          ],
          "name": "stdout"
        }
      ]
    },
    {
      "metadata": {
        "id": "JLjlo-Ja1BUp",
        "colab_type": "code",
        "outputId": "2e2729c7-456c-4c8e-971e-b434c46dec5c",
        "colab": {
          "base_uri": "https://localhost:8080/",
          "height": 34
        }
      },
      "cell_type": "code",
      "source": [
        "import math\n",
        "ber=0.0\n",
        "e=[]\n",
        "enc_bits=[]\n",
        "av_ber=0.0\n",
        "for x in range(501):\n",
        "  for y in range(15):\n",
        "    if(var[x][y]<0.5):\n",
        "      a=0\n",
        "    else:\n",
        "      a=1\n",
        "    e.append(a)\n",
        "    if(m[x][y]!=a):\n",
        "      ber=ber+1\n",
        "  enc_bits.append(np.array(e))\n",
        "  e=[]\n",
        "  av_ber=av_ber+ber/15\n",
        "  #print(av_ber)\n",
        "  ber=0.0\n",
        "  \n",
        "av_ber=av_ber/501\n",
        "print(math.log(av_ber))\n",
        "\n",
        "enc_bits=np.array(enc_bits)\n",
        "enc_bits=enc_bits.reshape(501,1,15)"
      ],
      "execution_count": 0,
      "outputs": [
        {
          "output_type": "stream",
          "text": [
            "-6.845214760507239\n"
          ],
          "name": "stdout"
        }
      ]
    },
    {
      "metadata": {
        "id": "c12xHQbe2wCO",
        "colab_type": "code",
        "outputId": "f505b0f1-a829-42ae-f683-c1d115d0958f",
        "colab": {
          "base_uri": "https://localhost:8080/",
          "height": 306
        }
      },
      "cell_type": "code",
      "source": [
        "model = Sequential()\n",
        "model.add(LSTM(800, return_sequences=True,\n",
        "               input_shape=(1, 15)))  \n",
        "model.add(BatchNormalization())  \n",
        "model.add(LSTM(800))  \n",
        "model.add(BatchNormalization())\n",
        "model.add(Dense(10, activation='sigmoid'))\n",
        "\n",
        "model.compile(loss='binary_crossentropy', optimizer='Adam',metrics=['accuracy'])\n",
        "\n",
        "\n",
        "model.summary()"
      ],
      "execution_count": 0,
      "outputs": [
        {
          "output_type": "stream",
          "text": [
            "_________________________________________________________________\n",
            "Layer (type)                 Output Shape              Param #   \n",
            "=================================================================\n",
            "lstm_11 (LSTM)               (None, 1, 800)            2611200   \n",
            "_________________________________________________________________\n",
            "batch_normalization_11 (Batc (None, 1, 800)            3200      \n",
            "_________________________________________________________________\n",
            "lstm_12 (LSTM)               (None, 800)               5123200   \n",
            "_________________________________________________________________\n",
            "batch_normalization_12 (Batc (None, 800)               3200      \n",
            "_________________________________________________________________\n",
            "dense_6 (Dense)              (None, 10)                8010      \n",
            "=================================================================\n",
            "Total params: 7,748,810\n",
            "Trainable params: 7,745,610\n",
            "Non-trainable params: 3,200\n",
            "_________________________________________________________________\n"
          ],
          "name": "stdout"
        }
      ]
    },
    {
      "metadata": {
        "id": "y-nPWemK38zH",
        "colab_type": "code",
        "colab": {}
      },
      "cell_type": "code",
      "source": [
        "q=q.reshape(501,10)"
      ],
      "execution_count": 0,
      "outputs": []
    },
    {
      "metadata": {
        "id": "xiG7gHVKlm5I",
        "colab_type": "code",
        "colab": {}
      },
      "cell_type": "code",
      "source": [
        "import matplotlib.pyplot as plt"
      ],
      "execution_count": 0,
      "outputs": []
    },
    {
      "metadata": {
        "id": "eoiD1Xbk4bsA",
        "colab_type": "code",
        "outputId": "74b5fef1-f150-4de9-df5e-1b4752a64a90",
        "colab": {
          "base_uri": "https://localhost:8080/",
          "height": 1734
        }
      },
      "cell_type": "code",
      "source": [
        "history=model.fit(x=enc_bits, y=q, batch_size=10, epochs=50, verbose=1, validation_split=0.2 ,shuffle=True)"
      ],
      "execution_count": 0,
      "outputs": [
        {
          "output_type": "stream",
          "text": [
            "Train on 400 samples, validate on 101 samples\n",
            "Epoch 1/50\n",
            "400/400 [==============================] - 5s 14ms/step - loss: 0.6314 - acc: 0.7558 - val_loss: 0.3916 - val_acc: 0.8396\n",
            "Epoch 2/50\n",
            "400/400 [==============================] - 1s 3ms/step - loss: 0.2949 - acc: 0.8600 - val_loss: 0.2710 - val_acc: 0.8723\n",
            "Epoch 3/50\n",
            "400/400 [==============================] - 1s 3ms/step - loss: 0.2330 - acc: 0.8815 - val_loss: 0.2546 - val_acc: 0.8822\n",
            "Epoch 4/50\n",
            "400/400 [==============================] - 1s 3ms/step - loss: 0.1995 - acc: 0.9040 - val_loss: 0.2210 - val_acc: 0.9059\n",
            "Epoch 5/50\n",
            "400/400 [==============================] - 1s 3ms/step - loss: 0.1771 - acc: 0.9170 - val_loss: 0.1529 - val_acc: 0.9307\n",
            "Epoch 6/50\n",
            "400/400 [==============================] - 1s 3ms/step - loss: 0.1308 - acc: 0.9445 - val_loss: 0.1298 - val_acc: 0.9436\n",
            "Epoch 7/50\n",
            "400/400 [==============================] - 1s 3ms/step - loss: 0.1175 - acc: 0.9505 - val_loss: 0.0961 - val_acc: 0.9634\n",
            "Epoch 8/50\n",
            "400/400 [==============================] - 1s 3ms/step - loss: 0.1109 - acc: 0.9580 - val_loss: 0.0776 - val_acc: 0.9693\n",
            "Epoch 9/50\n",
            "400/400 [==============================] - 1s 3ms/step - loss: 0.0953 - acc: 0.9642 - val_loss: 0.0525 - val_acc: 0.9772\n",
            "Epoch 10/50\n",
            "400/400 [==============================] - 1s 3ms/step - loss: 0.0798 - acc: 0.9720 - val_loss: 0.0354 - val_acc: 0.9881\n",
            "Epoch 11/50\n",
            "400/400 [==============================] - 1s 3ms/step - loss: 0.0816 - acc: 0.9725 - val_loss: 0.0261 - val_acc: 0.9941\n",
            "Epoch 12/50\n",
            "400/400 [==============================] - 1s 3ms/step - loss: 0.0628 - acc: 0.9797 - val_loss: 0.0173 - val_acc: 0.9970\n",
            "Epoch 13/50\n",
            "400/400 [==============================] - 1s 3ms/step - loss: 0.0508 - acc: 0.9845 - val_loss: 0.0119 - val_acc: 0.9980\n",
            "Epoch 14/50\n",
            "400/400 [==============================] - 1s 3ms/step - loss: 0.0427 - acc: 0.9887 - val_loss: 0.0090 - val_acc: 1.0000\n",
            "Epoch 15/50\n",
            "400/400 [==============================] - 1s 3ms/step - loss: 0.0385 - acc: 0.9905 - val_loss: 0.0085 - val_acc: 0.9990\n",
            "Epoch 16/50\n",
            "400/400 [==============================] - 1s 3ms/step - loss: 0.0443 - acc: 0.9885 - val_loss: 0.0073 - val_acc: 0.9990\n",
            "Epoch 17/50\n",
            "400/400 [==============================] - 1s 3ms/step - loss: 0.0483 - acc: 0.9842 - val_loss: 0.0077 - val_acc: 1.0000\n",
            "Epoch 18/50\n",
            "400/400 [==============================] - 1s 3ms/step - loss: 0.0525 - acc: 0.9812 - val_loss: 0.0045 - val_acc: 1.0000\n",
            "Epoch 19/50\n",
            "400/400 [==============================] - 1s 3ms/step - loss: 0.0550 - acc: 0.9830 - val_loss: 0.0043 - val_acc: 1.0000\n",
            "Epoch 20/50\n",
            "400/400 [==============================] - 1s 3ms/step - loss: 0.0528 - acc: 0.9815 - val_loss: 0.0031 - val_acc: 1.0000\n",
            "Epoch 21/50\n",
            "400/400 [==============================] - 1s 3ms/step - loss: 0.0518 - acc: 0.9832 - val_loss: 0.0042 - val_acc: 1.0000\n",
            "Epoch 22/50\n",
            "400/400 [==============================] - 1s 3ms/step - loss: 0.0560 - acc: 0.9787 - val_loss: 0.0033 - val_acc: 1.0000\n",
            "Epoch 23/50\n",
            "400/400 [==============================] - 1s 3ms/step - loss: 0.0582 - acc: 0.9752 - val_loss: 0.0029 - val_acc: 1.0000\n",
            "Epoch 24/50\n",
            "400/400 [==============================] - 1s 3ms/step - loss: 0.0746 - acc: 0.9692 - val_loss: 0.0081 - val_acc: 0.9970\n",
            "Epoch 25/50\n",
            "400/400 [==============================] - 1s 3ms/step - loss: 0.0619 - acc: 0.9765 - val_loss: 0.0041 - val_acc: 1.0000\n",
            "Epoch 26/50\n",
            "400/400 [==============================] - 1s 3ms/step - loss: 0.0454 - acc: 0.9825 - val_loss: 0.0026 - val_acc: 1.0000\n",
            "Epoch 27/50\n",
            "400/400 [==============================] - 1s 3ms/step - loss: 0.0404 - acc: 0.9877 - val_loss: 0.0020 - val_acc: 1.0000\n",
            "Epoch 28/50\n",
            "400/400 [==============================] - 1s 3ms/step - loss: 0.0428 - acc: 0.9867 - val_loss: 0.0020 - val_acc: 1.0000\n",
            "Epoch 29/50\n",
            "400/400 [==============================] - 1s 3ms/step - loss: 0.0355 - acc: 0.9902 - val_loss: 0.0014 - val_acc: 1.0000\n",
            "Epoch 30/50\n",
            "400/400 [==============================] - 1s 3ms/step - loss: 0.0383 - acc: 0.9880 - val_loss: 0.0012 - val_acc: 1.0000\n",
            "Epoch 31/50\n",
            "400/400 [==============================] - 1s 3ms/step - loss: 0.0615 - acc: 0.9765 - val_loss: 0.0029 - val_acc: 1.0000\n",
            "Epoch 32/50\n",
            "400/400 [==============================] - 1s 3ms/step - loss: 0.0609 - acc: 0.9747 - val_loss: 0.0021 - val_acc: 1.0000\n",
            "Epoch 33/50\n",
            "400/400 [==============================] - 1s 3ms/step - loss: 0.0336 - acc: 0.9885 - val_loss: 0.0014 - val_acc: 1.0000\n",
            "Epoch 34/50\n",
            "400/400 [==============================] - 1s 3ms/step - loss: 0.0343 - acc: 0.9897 - val_loss: 0.0021 - val_acc: 1.0000\n",
            "Epoch 35/50\n",
            "400/400 [==============================] - 1s 3ms/step - loss: 0.0382 - acc: 0.9880 - val_loss: 0.0014 - val_acc: 1.0000\n",
            "Epoch 36/50\n",
            "400/400 [==============================] - 1s 3ms/step - loss: 0.0473 - acc: 0.9805 - val_loss: 9.0809e-04 - val_acc: 1.0000\n",
            "Epoch 37/50\n",
            "400/400 [==============================] - 1s 3ms/step - loss: 0.0377 - acc: 0.9882 - val_loss: 0.0018 - val_acc: 1.0000\n",
            "Epoch 38/50\n",
            "400/400 [==============================] - 1s 3ms/step - loss: 0.0613 - acc: 0.9787 - val_loss: 0.0016 - val_acc: 1.0000\n",
            "Epoch 39/50\n",
            "400/400 [==============================] - 1s 3ms/step - loss: 0.0446 - acc: 0.9840 - val_loss: 0.0023 - val_acc: 0.9990\n",
            "Epoch 40/50\n",
            "400/400 [==============================] - 1s 3ms/step - loss: 0.0398 - acc: 0.9832 - val_loss: 9.5831e-04 - val_acc: 1.0000\n",
            "Epoch 41/50\n",
            "400/400 [==============================] - 1s 3ms/step - loss: 0.0408 - acc: 0.9852 - val_loss: 8.9732e-04 - val_acc: 1.0000\n",
            "Epoch 42/50\n",
            "400/400 [==============================] - 1s 3ms/step - loss: 0.0343 - acc: 0.9875 - val_loss: 0.0013 - val_acc: 1.0000\n",
            "Epoch 43/50\n",
            "400/400 [==============================] - 1s 3ms/step - loss: 0.0431 - acc: 0.9822 - val_loss: 0.0014 - val_acc: 1.0000\n",
            "Epoch 44/50\n",
            "400/400 [==============================] - 1s 3ms/step - loss: 0.0356 - acc: 0.9857 - val_loss: 0.0013 - val_acc: 1.0000\n",
            "Epoch 45/50\n",
            "400/400 [==============================] - 1s 3ms/step - loss: 0.0289 - acc: 0.9912 - val_loss: 5.8801e-04 - val_acc: 1.0000\n",
            "Epoch 46/50\n",
            "400/400 [==============================] - 1s 3ms/step - loss: 0.0361 - acc: 0.9860 - val_loss: 0.0013 - val_acc: 1.0000\n",
            "Epoch 47/50\n",
            "400/400 [==============================] - 1s 3ms/step - loss: 0.0477 - acc: 0.9817 - val_loss: 0.0015 - val_acc: 1.0000\n",
            "Epoch 48/50\n",
            "400/400 [==============================] - 1s 3ms/step - loss: 0.0478 - acc: 0.9822 - val_loss: 7.8585e-04 - val_acc: 1.0000\n",
            "Epoch 49/50\n",
            "400/400 [==============================] - 1s 3ms/step - loss: 0.0441 - acc: 0.9827 - val_loss: 8.8107e-04 - val_acc: 1.0000\n",
            "Epoch 50/50\n",
            "400/400 [==============================] - 1s 3ms/step - loss: 0.0292 - acc: 0.9890 - val_loss: 6.0132e-04 - val_acc: 1.0000\n"
          ],
          "name": "stdout"
        }
      ]
    },
    {
      "metadata": {
        "id": "YfhPad1WoSrU",
        "colab_type": "code",
        "outputId": "a4025164-f03d-4ebc-86a0-71426669623b",
        "colab": {
          "base_uri": "https://localhost:8080/",
          "height": 752
        }
      },
      "cell_type": "code",
      "source": [
        "print(history.history.keys())\n",
        "# summarize history for accuracy\n",
        "plt.plot(history.history['acc'])\n",
        "plt.plot(history.history['val_acc'])\n",
        "plt.title('model accuracy')\n",
        "plt.ylabel('accuracy')\n",
        "plt.xlabel('epoch')\n",
        "plt.legend(['train', 'validation'], loc='upper left')\n",
        "plt.show()\n",
        "# summarize history for loss\n",
        "plt.plot(history.history['loss'])\n",
        "plt.plot(history.history['val_loss'])\n",
        "plt.title('model loss')\n",
        "plt.ylabel('loss')\n",
        "plt.xlabel('epoch')\n",
        "plt.legend(['train', 'validation'], loc='upper left')\n",
        "plt.show()"
      ],
      "execution_count": 0,
      "outputs": [
        {
          "output_type": "stream",
          "text": [
            "dict_keys(['val_loss', 'val_acc', 'loss', 'acc'])\n"
          ],
          "name": "stdout"
        },
        {
          "output_type": "display_data",
          "data": {
            "image/png": "[encoded data removed]",
            "text/plain": [
              "<Figure size 576x396 with 1 Axes>"
            ]
          },
          "metadata": {
            "tags": []
          }
        },
        {
          "output_type": "display_data",
          "data": {
            "image/png": "[encoded data removed]",
            "text/plain": [
              "<Figure size 576x396 with 1 Axes>"
            ]
          },
          "metadata": {
            "tags": []
          }
        }
      ]
    },
    {
      "metadata": {
        "id": "XOdfTiFj4qzk",
        "colab_type": "code",
        "outputId": "6c8478a4-c682-40c1-8526-040441dd76a3",
        "colab": {
          "base_uri": "https://localhost:8080/",
          "height": 51
        }
      },
      "cell_type": "code",
      "source": [
        "model.evaluate(x=enc_bits , y=q, batch_size=10)\n"
      ],
      "execution_count": 0,
      "outputs": [
        {
          "output_type": "stream",
          "text": [
            "501/501 [==============================] - 0s 605us/step\n"
          ],
          "name": "stdout"
        },
        {
          "output_type": "execute_result",
          "data": {
            "text/plain": [
              "[0.0006663920955294223, 1.0]"
            ]
          },
          "metadata": {
            "tags": []
          },
          "execution_count": 13
        }
      ]
    },
    {
      "metadata": {
        "id": "lydcOkw39AKR",
        "colab_type": "code",
        "outputId": "fe965616-03df-4f50-adad-acf8b05fb7bc",
        "colab": {
          "base_uri": "https://localhost:8080/",
          "height": 238
        }
      },
      "cell_type": "code",
      "source": [
        "ans=model.predict(enc_bits)\n",
        "print(ans)"
      ],
      "execution_count": 0,
      "outputs": [
        {
          "output_type": "stream",
          "text": [
            "[[9.9999988e-01 9.9997801e-01 2.2094846e-03 ... 4.3290854e-04\n",
            "  9.9998200e-01 9.9953848e-01]\n",
            " [2.6285648e-05 3.2782555e-06 2.4437904e-06 ... 1.7282367e-04\n",
            "  6.8065524e-04 3.8745999e-04]\n",
            " [9.9999940e-01 9.9999386e-01 9.9995083e-01 ... 9.9949801e-01\n",
            "  9.9998838e-01 9.9997413e-01]\n",
            " ...\n",
            " [7.6293945e-06 6.2584877e-07 9.9968046e-01 ... 9.9890709e-01\n",
            "  3.0435503e-02 9.9935216e-01]\n",
            " [9.9999958e-01 9.9999994e-01 9.9999726e-01 ... 1.4056861e-03\n",
            "  2.3221970e-04 7.0989132e-05]\n",
            " [2.8282404e-05 1.5497208e-06 4.7683716e-07 ... 1.3351440e-04\n",
            "  2.0896277e-04 9.9991107e-01]]\n"
          ],
          "name": "stdout"
        }
      ]
    },
    {
      "metadata": {
        "id": "MROctO7_H8mk",
        "colab_type": "code",
        "colab": {}
      },
      "cell_type": "code",
      "source": [
        ""
      ],
      "execution_count": 0,
      "outputs": []
    }
  ]
}