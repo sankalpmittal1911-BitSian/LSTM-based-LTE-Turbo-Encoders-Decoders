{
  "nbformat": 4,
  "nbformat_minor": 0,
  "metadata": {
    "colab": {
      "name": "Untitled30.ipynb",
      "provenance": [],
      "collapsed_sections": []
    },
    "kernelspec": {
      "name": "python3",
      "display_name": "Python 3"
    },
    "accelerator": "GPU"
  },
  "cells": [
    {
      "cell_type": "code",
      "metadata": {
        "id": "BGwyRE0D5u2Z",
        "colab": {
          "base_uri": "https://localhost:8080/",
          "height": 187
        },
        "outputId": "70390a10-ca61-43ce-a59a-70714d98e59f"
      },
      "source": [
        "!pip install scikit-commpy"
      ],
      "execution_count": null,
      "outputs": [
        {
          "output_type": "stream",
          "text": [
            "Requirement already satisfied: scikit-commpy in /usr/local/lib/python3.6/dist-packages (0.4.0)\n",
            "Requirement already satisfied: scipy in /usr/local/lib/python3.6/dist-packages (from scikit-commpy) (1.3.0)\n",
            "Requirement already satisfied: matplotlib in /usr/local/lib/python3.6/dist-packages (from scikit-commpy) (3.0.3)\n",
            "Requirement already satisfied: numpy in /usr/local/lib/python3.6/dist-packages (from scikit-commpy) (1.16.4)\n",
            "Requirement already satisfied: pyparsing!=2.0.4,!=2.1.2,!=2.1.6,>=2.0.1 in /usr/local/lib/python3.6/dist-packages (from matplotlib->scikit-commpy) (2.4.0)\n",
            "Requirement already satisfied: python-dateutil>=2.1 in /usr/local/lib/python3.6/dist-packages (from matplotlib->scikit-commpy) (2.5.3)\n",
            "Requirement already satisfied: cycler>=0.10 in /usr/local/lib/python3.6/dist-packages (from matplotlib->scikit-commpy) (0.10.0)\n",
            "Requirement already satisfied: kiwisolver>=1.0.1 in /usr/local/lib/python3.6/dist-packages (from matplotlib->scikit-commpy) (1.1.0)\n",
            "Requirement already satisfied: six>=1.5 in /usr/local/lib/python3.6/dist-packages (from python-dateutil>=2.1->matplotlib->scikit-commpy) (1.12.0)\n",
            "Requirement already satisfied: setuptools in /usr/local/lib/python3.6/dist-packages (from kiwisolver>=1.0.1->matplotlib->scikit-commpy) (41.0.1)\n"
          ],
          "name": "stdout"
        }
      ]
    },
    {
      "cell_type": "code",
      "metadata": {
        "id": "GOAPmxJU5v3j"
      },
      "source": [
        "import numpy as np\n",
        "import commpy.channelcoding.turbo as cx\n",
        "import commpy.channelcoding.interleavers as ci\n",
        "import commpy.channelcoding.convcode as cc\n",
        "from numpy import array, arange, zeros\n",
        "from random import *\n",
        "from array import *\n",
        "import commpy.modulation as m\n",
        "import commpy.channels as cch"
      ],
      "execution_count": null,
      "outputs": []
    },
    {
      "cell_type": "code",
      "metadata": {
        "id": "a4VsCMGy50Ek"
      },
      "source": [
        "randBin = lambda n: [randint(0,1) for b in range(1,n+1)]\n"
      ],
      "execution_count": null,
      "outputs": []
    },
    {
      "cell_type": "code",
      "metadata": {
        "id": "fMDDX3cn52aw"
      },
      "source": [
        "memory = np.array([2])\n",
        "g_matrix = np.array([[0o5, 0o7]])\n",
        "trellis = cc.Trellis(memory, g_matrix)\n",
        "trellis.k =1 \n",
        "trellis.n = 3\n",
        "#trellis.number_states=0\n",
        "#trellis.number_inputs = 0\n",
        "#trellis.total_memory = 0\n",
        "tb_depth=5*(memory.sum()+1)"
      ],
      "execution_count": null,
      "outputs": []
    },
    {
      "cell_type": "code",
      "metadata": {
        "id": "JXsxdL5x54Wv",
        "colab": {
          "base_uri": "https://localhost:8080/",
          "height": 153
        },
        "outputId": "ca13a7c0-58e3-4954-e7a1-116f3abd61ea"
      },
      "source": [
        "dataset=[]\n",
        "\n",
        "for i in range(22000):\n",
        "  x=np.array(randBin(64))\n",
        "  dataset.append(x)\n",
        "  \n",
        "dataset=np.array(dataset)\n",
        "\n",
        "testdata=dataset[0:2000]\n",
        "dataset=dataset[2000:]\n",
        "print(dataset)\n",
        "print(dataset.shape)"
      ],
      "execution_count": null,
      "outputs": [
        {
          "output_type": "stream",
          "text": [
            "[[0 0 0 ... 0 1 1]\n",
            " [1 1 0 ... 0 0 0]\n",
            " [0 1 0 ... 0 1 1]\n",
            " ...\n",
            " [0 1 1 ... 1 1 0]\n",
            " [0 0 1 ... 0 1 0]\n",
            " [0 0 0 ... 1 1 1]]\n",
            "(20000, 64)\n"
          ],
          "name": "stdout"
        }
      ]
    },
    {
      "cell_type": "code",
      "metadata": {
        "id": "bY0ktBHF563p"
      },
      "source": [
        "#Define an arbitrary filter\n",
        "\n",
        "f=[-1.7792944 + 0.5910477j  , 1.60903698 - 0.36520366j , 0.26840385+0.37321121j,\n",
        " -0.02563482-0.29636678j , 0.85723608+1.23391568j,  1.0010208 +0.17803829j,\n",
        "  0.09328626+0.17552262j]"
      ],
      "execution_count": null,
      "outputs": []
    },
    {
      "cell_type": "code",
      "metadata": {
        "id": "0PmARbOV59zF",
        "colab": {
          "base_uri": "https://localhost:8080/",
          "height": 68
        },
        "outputId": "6d1f0435-0f7b-419a-bb6b-bcc5ac96eba7"
      },
      "source": [
        "f=np.array(f)\n",
        "print(f)"
      ],
      "execution_count": null,
      "outputs": [
        {
          "output_type": "stream",
          "text": [
            "[-1.7792944 +0.5910477j   1.60903698-0.36520366j  0.26840385+0.37321121j\n",
            " -0.02563482-0.29636678j  0.85723608+1.23391568j  1.0010208 +0.17803829j\n",
            "  0.09328626+0.17552262j]\n"
          ],
          "name": "stdout"
        }
      ]
    },
    {
      "cell_type": "code",
      "metadata": {
        "id": "DIehAOyx6FEQ"
      },
      "source": [
        "def add_channel(modulated):\n",
        "  y=np.convolve(f,modulated,'full')\n",
        "  return y"
      ],
      "execution_count": null,
      "outputs": []
    },
    {
      "cell_type": "code",
      "metadata": {
        "id": "02PBa0py6I0o"
      },
      "source": [
        "import numpy as np\n",
        "import matplotlib.pyplot as plt\n",
        "import pdb\n",
        "\n",
        "def lms(u, d, M, step, leak=0, initCoeffs=None, N=None, returnCoeffs=False):\n",
        "\n",
        "  if N is None:\n",
        "      N = len(u)-M+1\n",
        "      #print(N)\n",
        "\n",
        "  initCoeffs = np.zeros(M)\n",
        "\n",
        "  # Initialization\n",
        "  y = np.zeros(N) # Filter output\n",
        "  e = np.zeros(N) # Error signal\n",
        "  w = initCoeffs  # Initialise equaliser\n",
        "  leakstep = (1 - step*leak)\n",
        "  if returnCoeffs:\n",
        "      W = np.zeros((N, M)) # Matrix to hold coeffs for each equaliser step\n",
        "\n",
        "  # Equalise\n",
        "    \n",
        "    \n",
        "\n",
        "  for n in range(N):\n",
        "        #print(n)\n",
        "\n",
        "        x = np.flipud(u[n:n+M]) # \n",
        "\n",
        "        y[n] = np.dot(x, w)\n",
        "\n",
        "        e[n] = d[n] - y[n]\n",
        "\n",
        "        w = leakstep * w + step * x * e[n]\n",
        "\n",
        "        y[n] = np.dot(x, w)\n",
        "\n",
        "        if returnCoeffs:\n",
        "            W[n] = w\n",
        "\n",
        "        if returnCoeffs:\n",
        "            w = W\n",
        "        #print(w)\n",
        "        #print(np.sqrt(np.dot(e,e.T)/N).real)\n",
        "\n",
        "  return y, e, w"
      ],
      "execution_count": null,
      "outputs": []
    },
    {
      "cell_type": "code",
      "metadata": {
        "id": "q-bYFNWX6L-9",
        "colab": {
          "base_uri": "https://localhost:8080/",
          "height": 51
        },
        "outputId": "b24399ed-b0bf-43fb-9716-922cd739f091"
      },
      "source": [
        "encoded=[]\n",
        "for i in range(dataset.shape[0]):\n",
        "  x=dataset[i]\n",
        "  y = cc.conv_encode(x,trellis)\n",
        "  encoded.append(y)\n",
        "  \n",
        "  \n",
        "encoded=np.array(encoded)\n",
        "\n",
        "print(encoded.shape)\n",
        "print(dataset.shape)\n",
        "dataset=dataset.reshape(dataset.shape[0],1,dataset.shape[1])"
      ],
      "execution_count": null,
      "outputs": [
        {
          "output_type": "stream",
          "text": [
            "(20000, 198)\n",
            "(20000, 64)\n"
          ],
          "name": "stdout"
        }
      ]
    },
    {
      "cell_type": "code",
      "metadata": {
        "id": "hLpydeDY6Zxh",
        "colab": {
          "base_uri": "https://localhost:8080/",
          "height": 34
        },
        "outputId": "e5a44a21-d54d-41db-ae8d-7a20928937d0"
      },
      "source": [
        "encoded_test=[]\n",
        "for i in range(testdata.shape[0]):\n",
        "  x=testdata[i]\n",
        "  y = cc.conv_encode(x,trellis)\n",
        "  encoded_test.append(y)\n",
        "  \n",
        "  \n",
        "encoded_test=np.array(encoded_test)\n",
        "testdata=testdata.reshape(testdata.shape[0],1,testdata.shape[1])\n",
        "\n",
        "print(encoded_test.shape)"
      ],
      "execution_count": null,
      "outputs": [
        {
          "output_type": "stream",
          "text": [
            "(2000, 198)\n"
          ],
          "name": "stdout"
        }
      ]
    },
    {
      "cell_type": "code",
      "metadata": {
        "id": "62ojIEkV6czu",
        "colab": {
          "base_uri": "https://localhost:8080/",
          "height": 139
        },
        "outputId": "d55f2dec-2c04-424f-9e49-0153953cca92"
      },
      "source": [
        "#Encoding\n",
        "from keras.layers import Bidirectional\n",
        "from keras.layers import LSTM\n",
        "from keras.models import Sequential\n",
        "from keras.layers import LSTM\n",
        "from keras.layers import Dense,BatchNormalization\n",
        "model1 = Sequential()\n",
        "model1.add(Bidirectional(LSTM(800, return_sequences=True,\n",
        "               input_shape=(1, 64))))  \n",
        "model1.add(BatchNormalization())  \n",
        "model1.add(Bidirectional(LSTM(800)))  \n",
        "model1.add(BatchNormalization())\n",
        "model1.add(Dense(198, activation='sigmoid'))\n",
        "\n",
        "model1.compile(loss='binary_crossentropy', optimizer='Adam',metrics=['accuracy'])\n",
        "\n",
        "#model1.summary()"
      ],
      "execution_count": null,
      "outputs": [
        {
          "output_type": "stream",
          "text": [
            "Using TensorFlow backend.\n",
            "WARNING: Logging before flag parsing goes to stderr.\n",
            "W0617 10:06:47.689884 140621898737536 deprecation_wrapper.py:119] From /usr/local/lib/python3.6/dist-packages/keras/backend/tensorflow_backend.py:74: The name tf.get_default_graph is deprecated. Please use tf.compat.v1.get_default_graph instead.\n",
            "\n",
            "W0617 10:06:47.745114 140621898737536 deprecation_wrapper.py:119] From /usr/local/lib/python3.6/dist-packages/keras/optimizers.py:790: The name tf.train.Optimizer is deprecated. Please use tf.compat.v1.train.Optimizer instead.\n",
            "\n"
          ],
          "name": "stderr"
        }
      ]
    },
    {
      "cell_type": "code",
      "metadata": {
        "id": "cabpEJ2e6fSj",
        "colab": {
          "base_uri": "https://localhost:8080/",
          "height": 34
        },
        "outputId": "ac383c80-ce5b-4461-ae3b-cf28ba9b8c23"
      },
      "source": [
        "dataset.shape\n",
        "print(encoded.shape)"
      ],
      "execution_count": null,
      "outputs": [
        {
          "output_type": "stream",
          "text": [
            "(20000, 198)\n"
          ],
          "name": "stdout"
        }
      ]
    },
    {
      "cell_type": "code",
      "metadata": {
        "id": "c3KCdGoy6nfj",
        "colab": {
          "base_uri": "https://localhost:8080/",
          "height": 1941
        },
        "outputId": "06acfea3-5614-419b-c051-22832687214e"
      },
      "source": [
        "history=model1.fit(x=dataset, y=encoded, batch_size=1000, epochs=50, verbose=1, validation_split=0.1 ,shuffle=True)"
      ],
      "execution_count": null,
      "outputs": [
        {
          "output_type": "stream",
          "text": [
            "W0617 10:06:57.917579 140621898737536 deprecation_wrapper.py:119] From /usr/local/lib/python3.6/dist-packages/keras/backend/tensorflow_backend.py:517: The name tf.placeholder is deprecated. Please use tf.compat.v1.placeholder instead.\n",
            "\n",
            "W0617 10:06:57.929904 140621898737536 deprecation_wrapper.py:119] From /usr/local/lib/python3.6/dist-packages/keras/backend/tensorflow_backend.py:4138: The name tf.random_uniform is deprecated. Please use tf.random.uniform instead.\n",
            "\n",
            "W0617 10:07:01.864225 140621898737536 deprecation_wrapper.py:119] From /usr/local/lib/python3.6/dist-packages/keras/backend/tensorflow_backend.py:133: The name tf.placeholder_with_default is deprecated. Please use tf.compat.v1.placeholder_with_default instead.\n",
            "\n",
            "W0617 10:07:06.013781 140621898737536 deprecation_wrapper.py:119] From /usr/local/lib/python3.6/dist-packages/keras/backend/tensorflow_backend.py:3376: The name tf.log is deprecated. Please use tf.math.log instead.\n",
            "\n",
            "W0617 10:07:06.021796 140621898737536 deprecation.py:323] From /usr/local/lib/python3.6/dist-packages/tensorflow/python/ops/nn_impl.py:180: add_dispatch_support.<locals>.wrapper (from tensorflow.python.ops.array_ops) is deprecated and will be removed in a future version.\n",
            "Instructions for updating:\n",
            "Use tf.where in 2.0, which has the same broadcast rule as np.where\n"
          ],
          "name": "stderr"
        },
        {
          "output_type": "stream",
          "text": [
            "Train on 18000 samples, validate on 2000 samples\n",
            "Epoch 1/50\n",
            "18000/18000 [==============================] - 11s 602us/step - loss: 0.6913 - acc: 0.5695 - val_loss: 0.6320 - val_acc: 0.6308\n",
            "Epoch 2/50\n",
            "18000/18000 [==============================] - 3s 140us/step - loss: 0.5467 - acc: 0.7280 - val_loss: 0.4918 - val_acc: 0.7664\n",
            "Epoch 3/50\n",
            "18000/18000 [==============================] - 3s 142us/step - loss: 0.3979 - acc: 0.8266 - val_loss: 0.3717 - val_acc: 0.8131\n",
            "Epoch 4/50\n",
            "18000/18000 [==============================] - 3s 140us/step - loss: 0.3191 - acc: 0.8517 - val_loss: 0.3227 - val_acc: 0.8306\n",
            "Epoch 5/50\n",
            "18000/18000 [==============================] - 3s 141us/step - loss: 0.2801 - acc: 0.8671 - val_loss: 0.2918 - val_acc: 0.8428\n",
            "Epoch 6/50\n",
            "18000/18000 [==============================] - 3s 142us/step - loss: 0.2516 - acc: 0.8789 - val_loss: 0.2664 - val_acc: 0.8530\n",
            "Epoch 7/50\n",
            "18000/18000 [==============================] - 3s 142us/step - loss: 0.2276 - acc: 0.8920 - val_loss: 0.2442 - val_acc: 0.8664\n",
            "Epoch 8/50\n",
            "18000/18000 [==============================] - 3s 142us/step - loss: 0.2034 - acc: 0.9110 - val_loss: 0.2180 - val_acc: 0.8885\n",
            "Epoch 9/50\n",
            "18000/18000 [==============================] - 3s 142us/step - loss: 0.1745 - acc: 0.9374 - val_loss: 0.1845 - val_acc: 0.9196\n",
            "Epoch 10/50\n",
            "18000/18000 [==============================] - 3s 143us/step - loss: 0.1397 - acc: 0.9658 - val_loss: 0.1452 - val_acc: 0.9539\n",
            "Epoch 11/50\n",
            "18000/18000 [==============================] - 3s 142us/step - loss: 0.1031 - acc: 0.9879 - val_loss: 0.1056 - val_acc: 0.9821\n",
            "Epoch 12/50\n",
            "18000/18000 [==============================] - 3s 142us/step - loss: 0.0711 - acc: 0.9979 - val_loss: 0.0731 - val_acc: 0.9955\n",
            "Epoch 13/50\n",
            "18000/18000 [==============================] - 3s 141us/step - loss: 0.0481 - acc: 0.9998 - val_loss: 0.0503 - val_acc: 0.9991\n",
            "Epoch 14/50\n",
            "18000/18000 [==============================] - 3s 142us/step - loss: 0.0333 - acc: 1.0000 - val_loss: 0.0354 - val_acc: 0.9998\n",
            "Epoch 15/50\n",
            "18000/18000 [==============================] - 3s 142us/step - loss: 0.0242 - acc: 1.0000 - val_loss: 0.0262 - val_acc: 1.0000\n",
            "Epoch 16/50\n",
            "18000/18000 [==============================] - 3s 142us/step - loss: 0.0184 - acc: 1.0000 - val_loss: 0.0202 - val_acc: 1.0000\n",
            "Epoch 17/50\n",
            "18000/18000 [==============================] - 3s 142us/step - loss: 0.0145 - acc: 1.0000 - val_loss: 0.0160 - val_acc: 1.0000\n",
            "Epoch 18/50\n",
            "18000/18000 [==============================] - 3s 142us/step - loss: 0.0118 - acc: 1.0000 - val_loss: 0.0131 - val_acc: 1.0000\n",
            "Epoch 19/50\n",
            "18000/18000 [==============================] - 3s 142us/step - loss: 0.0099 - acc: 1.0000 - val_loss: 0.0108 - val_acc: 1.0000\n",
            "Epoch 20/50\n",
            "18000/18000 [==============================] - 3s 141us/step - loss: 0.0084 - acc: 1.0000 - val_loss: 0.0091 - val_acc: 1.0000\n",
            "Epoch 21/50\n",
            "18000/18000 [==============================] - 3s 142us/step - loss: 0.0073 - acc: 1.0000 - val_loss: 0.0078 - val_acc: 1.0000\n",
            "Epoch 22/50\n",
            "18000/18000 [==============================] - 3s 143us/step - loss: 0.0063 - acc: 1.0000 - val_loss: 0.0067 - val_acc: 1.0000\n",
            "Epoch 23/50\n",
            "18000/18000 [==============================] - 3s 142us/step - loss: 0.0056 - acc: 1.0000 - val_loss: 0.0058 - val_acc: 1.0000\n",
            "Epoch 24/50\n",
            "18000/18000 [==============================] - 3s 142us/step - loss: 0.0050 - acc: 1.0000 - val_loss: 0.0052 - val_acc: 1.0000\n",
            "Epoch 25/50\n",
            "18000/18000 [==============================] - 3s 142us/step - loss: 0.0045 - acc: 1.0000 - val_loss: 0.0046 - val_acc: 1.0000\n",
            "Epoch 26/50\n",
            "18000/18000 [==============================] - 3s 142us/step - loss: 0.0040 - acc: 1.0000 - val_loss: 0.0041 - val_acc: 1.0000\n",
            "Epoch 27/50\n",
            "18000/18000 [==============================] - 3s 142us/step - loss: 0.0037 - acc: 1.0000 - val_loss: 0.0037 - val_acc: 1.0000\n",
            "Epoch 28/50\n",
            "18000/18000 [==============================] - 3s 142us/step - loss: 0.0034 - acc: 1.0000 - val_loss: 0.0034 - val_acc: 1.0000\n",
            "Epoch 29/50\n",
            "18000/18000 [==============================] - 3s 142us/step - loss: 0.0031 - acc: 1.0000 - val_loss: 0.0031 - val_acc: 1.0000\n",
            "Epoch 30/50\n",
            "18000/18000 [==============================] - 3s 142us/step - loss: 0.0029 - acc: 1.0000 - val_loss: 0.0028 - val_acc: 1.0000\n",
            "Epoch 31/50\n",
            "18000/18000 [==============================] - 3s 142us/step - loss: 0.0026 - acc: 1.0000 - val_loss: 0.0026 - val_acc: 1.0000\n",
            "Epoch 32/50\n",
            "18000/18000 [==============================] - 3s 141us/step - loss: 0.0024 - acc: 1.0000 - val_loss: 0.0024 - val_acc: 1.0000\n",
            "Epoch 33/50\n",
            "18000/18000 [==============================] - 3s 141us/step - loss: 0.0023 - acc: 1.0000 - val_loss: 0.0023 - val_acc: 1.0000\n",
            "Epoch 34/50\n",
            "18000/18000 [==============================] - 3s 141us/step - loss: 0.0021 - acc: 1.0000 - val_loss: 0.0021 - val_acc: 1.0000\n",
            "Epoch 35/50\n",
            "18000/18000 [==============================] - 3s 142us/step - loss: 0.0020 - acc: 1.0000 - val_loss: 0.0020 - val_acc: 1.0000\n",
            "Epoch 36/50\n",
            "18000/18000 [==============================] - 3s 142us/step - loss: 0.0019 - acc: 1.0000 - val_loss: 0.0019 - val_acc: 1.0000\n",
            "Epoch 37/50\n",
            "18000/18000 [==============================] - 3s 142us/step - loss: 0.0018 - acc: 1.0000 - val_loss: 0.0017 - val_acc: 1.0000\n",
            "Epoch 38/50\n",
            "18000/18000 [==============================] - 3s 142us/step - loss: 0.0017 - acc: 1.0000 - val_loss: 0.0016 - val_acc: 1.0000\n",
            "Epoch 39/50\n",
            "18000/18000 [==============================] - 3s 143us/step - loss: 0.0016 - acc: 1.0000 - val_loss: 0.0016 - val_acc: 1.0000\n",
            "Epoch 40/50\n",
            "18000/18000 [==============================] - 3s 141us/step - loss: 0.0015 - acc: 1.0000 - val_loss: 0.0015 - val_acc: 1.0000\n",
            "Epoch 41/50\n",
            "18000/18000 [==============================] - 3s 142us/step - loss: 0.0014 - acc: 1.0000 - val_loss: 0.0014 - val_acc: 1.0000\n",
            "Epoch 42/50\n",
            "18000/18000 [==============================] - 3s 143us/step - loss: 0.0013 - acc: 1.0000 - val_loss: 0.0013 - val_acc: 1.0000\n",
            "Epoch 43/50\n",
            "18000/18000 [==============================] - 3s 143us/step - loss: 0.0013 - acc: 1.0000 - val_loss: 0.0012 - val_acc: 1.0000\n",
            "Epoch 44/50\n",
            "18000/18000 [==============================] - 3s 142us/step - loss: 0.0012 - acc: 1.0000 - val_loss: 0.0012 - val_acc: 1.0000\n",
            "Epoch 45/50\n",
            "18000/18000 [==============================] - 3s 142us/step - loss: 0.0011 - acc: 1.0000 - val_loss: 0.0011 - val_acc: 1.0000\n",
            "Epoch 46/50\n",
            "18000/18000 [==============================] - 3s 143us/step - loss: 0.0011 - acc: 1.0000 - val_loss: 0.0011 - val_acc: 1.0000\n",
            "Epoch 47/50\n",
            "18000/18000 [==============================] - 3s 142us/step - loss: 0.0010 - acc: 1.0000 - val_loss: 0.0010 - val_acc: 1.0000\n",
            "Epoch 48/50\n",
            "18000/18000 [==============================] - 3s 142us/step - loss: 9.9745e-04 - acc: 1.0000 - val_loss: 9.8799e-04 - val_acc: 1.0000\n",
            "Epoch 49/50\n",
            "18000/18000 [==============================] - 3s 143us/step - loss: 9.5769e-04 - acc: 1.0000 - val_loss: 9.4684e-04 - val_acc: 1.0000\n",
            "Epoch 50/50\n",
            "18000/18000 [==============================] - 3s 143us/step - loss: 9.1107e-04 - acc: 1.0000 - val_loss: 9.0327e-04 - val_acc: 1.0000\n"
          ],
          "name": "stdout"
        }
      ]
    },
    {
      "cell_type": "code",
      "metadata": {
        "id": "OPN90hBO6pu-",
        "colab": {
          "base_uri": "https://localhost:8080/",
          "height": 51
        },
        "outputId": "5f756d06-67a7-48f4-bbce-ac22e0d28621"
      },
      "source": [
        "model1.evaluate(x=testdata,y=encoded_test)"
      ],
      "execution_count": null,
      "outputs": [
        {
          "output_type": "stream",
          "text": [
            "2000/2000 [==============================] - 1s 359us/step\n"
          ],
          "name": "stdout"
        },
        {
          "output_type": "execute_result",
          "data": {
            "text/plain": [
              "[0.0009055859679356217, 1.0]"
            ]
          },
          "metadata": {
            "tags": []
          },
          "execution_count": 16
        }
      ]
    },
    {
      "cell_type": "code",
      "metadata": {
        "id": "Mc38bkxv7Ul3"
      },
      "source": [
        "encoded_lstm = np.array(np.round(model1.predict(dataset)),dtype=np.int32)"
      ],
      "execution_count": null,
      "outputs": []
    },
    {
      "cell_type": "code",
      "metadata": {
        "id": "qppDxssq7WxT",
        "colab": {
          "base_uri": "https://localhost:8080/",
          "height": 255
        },
        "outputId": "7133e168-06a9-4ff0-a0d5-4727b963a317"
      },
      "source": [
        "print(encoded_lstm)\n",
        "print(encoded)"
      ],
      "execution_count": null,
      "outputs": [
        {
          "output_type": "stream",
          "text": [
            "[[0 0 0 ... 0 1 1]\n",
            " [0 1 1 ... 0 0 0]\n",
            " [0 0 0 ... 0 1 1]\n",
            " ...\n",
            " [0 0 0 ... 0 0 0]\n",
            " [0 0 0 ... 0 0 0]\n",
            " [0 0 0 ... 0 1 1]]\n",
            "[[0 0 0 ... 0 1 1]\n",
            " [0 1 1 ... 0 0 0]\n",
            " [0 0 0 ... 0 1 1]\n",
            " ...\n",
            " [0 0 0 ... 0 0 0]\n",
            " [0 0 0 ... 0 0 0]\n",
            " [0 0 0 ... 0 1 1]]\n"
          ],
          "name": "stdout"
        }
      ]
    },
    {
      "cell_type": "code",
      "metadata": {
        "id": "HP7DUXUE7aJ8",
        "colab": {
          "base_uri": "https://localhost:8080/",
          "height": 34
        },
        "outputId": "ed5e2581-7106-480d-d50e-67a59677114b"
      },
      "source": [
        "print(encoded_lstm.shape)"
      ],
      "execution_count": null,
      "outputs": [
        {
          "output_type": "stream",
          "text": [
            "(20000, 198)\n"
          ],
          "name": "stdout"
        }
      ]
    },
    {
      "cell_type": "code",
      "metadata": {
        "id": "DzSO9ppW7ck5",
        "colab": {
          "base_uri": "https://localhost:8080/",
          "height": 34
        },
        "outputId": "6dc08cca-810a-41e2-c8a3-84976975e57d"
      },
      "source": [
        "noise_lstm = np.zeros((820000,105)) + 1j*np.zeros((820000,105))\n",
        "noise_vit = np.zeros((820000,105)) + 1j*np.zeros((820000,105))\n",
        "mod_vit = np.zeros((820000,99)) + 1j*np.zeros((820000,99))\n",
        "y_l=0\n",
        "psk=m.PSKModem(4)\n",
        "y_c=0\n",
        "snr=[]\n",
        "for i in range(41):\n",
        "  snr.append(i)\n",
        "  \n",
        "print(snr)"
      ],
      "execution_count": null,
      "outputs": [
        {
          "output_type": "stream",
          "text": [
            "[0, 1, 2, 3, 4, 5, 6, 7, 8, 9, 10, 11, 12, 13, 14, 15, 16, 17, 18, 19, 20, 21, 22, 23, 24, 25, 26, 27, 28, 29, 30, 31, 32, 33, 34, 35, 36, 37, 38, 39, 40]\n"
          ],
          "name": "stdout"
        }
      ]
    },
    {
      "cell_type": "code",
      "metadata": {
        "id": "pf5V__gO7e0x",
        "colab": {
          "base_uri": "https://localhost:8080/",
          "height": 986
        },
        "outputId": "fb7ecb8a-cc4c-45b0-e47f-96de3b1d4aa5"
      },
      "source": [
        "k=-1\n",
        "for s in snr:\n",
        "  for i in range(encoded.shape[0]):\n",
        "      k=k+1\n",
        "      y_l=psk.modulate(encoded_lstm[i])\n",
        "      y_l = add_channel(y_l)\n",
        "      y_l = cch.awgn(y_l,s)\n",
        "      noise_lstm[k] = y_l\n",
        "\n",
        "      y_c=psk.modulate(encoded[i])\n",
        "      mod_vit[k]=y_c\n",
        "      y_c = add_channel(y_c)\n",
        "      y_c = cch.awgn(y_c,s)\n",
        "      noise_vit[k]= y_c\n",
        "    \n",
        "print(noise_lstm)\n",
        "print(noise_vit)\n",
        "print(mod_vit)"
      ],
      "execution_count": null,
      "outputs": [
        {
          "output_type": "stream",
          "text": [
            "[[-1.04011157e+00-0.96096858j -2.41174138e+00-3.10037797j\n",
            "   5.19367922e+00+0.79217503j ... -1.51578306e-01-2.90940868j\n",
            "   1.09200127e-01+0.45510932j -1.63007971e-01-2.13220449j]\n",
            " [-9.29388041e-01+1.84198783j  1.50118287e+00-5.89517981j\n",
            "   3.61314797e+00+0.43023843j ...  1.20523505e+00+0.81336852j\n",
            "   2.54061596e+00-1.35863968j  1.26653545e+00-1.01197169j]\n",
            " [ 3.25783387e+00+0.5698351j   3.32344384e-01+0.65802276j\n",
            "   4.84914081e+00-2.44883722j ...  1.10903992e-01-3.8617894j\n",
            "   1.33723828e+00+0.03158615j  1.75012505e+00+1.36845145j]\n",
            " ...\n",
            " [ 5.64390815e-01+1.75735372j  2.43008600e-01+0.1783995j\n",
            "   1.80806220e+00-2.45571225j ...  1.16543148e+00+0.31381558j\n",
            "   3.12684328e-03-0.8965887j   1.72636695e-01-0.07935398j]\n",
            " [ 5.74036982e-01+1.76078048j  2.56478009e-01+0.16861994j\n",
            "   5.76089210e-01-0.14110323j ...  1.17909662e+00+0.3371417j\n",
            "   1.55318723e-02-0.87934878j  1.85206603e-01-0.09904088j]\n",
            " [ 5.74821694e-01+1.77843817j  2.60680612e-01+0.14083577j\n",
            "   5.97910227e-01-0.0718909j  ... -5.68290771e-01-2.04510234j\n",
            "  -8.30743246e-01-0.26379221j -9.63267539e-02-0.19295742j]]\n",
            "[[ 4.88093777e+00+4.29491685j  3.11231651e+00+2.98661252j\n",
            "   2.75877675e+00-1.07483335j ... -1.17300075e+00-0.52329067j\n",
            "   1.60265484e+00+4.52967333j  1.48884291e+00+2.31437485j]\n",
            " [-4.58806935e+00-1.18260449j -9.67268723e-01-7.08429104j\n",
            "  -2.01002862e+00+2.24797966j ...  2.10423955e-01+4.39891343j\n",
            "   1.76028075e+00+0.3341835j  -3.31896145e-01-1.6266704j ]\n",
            " [ 1.65867065e+00+2.90992384j -1.97056709e+00-0.29833335j\n",
            "   3.00525788e+00-3.74528816j ...  2.70304455e-01+1.54660514j\n",
            "   1.42562230e+00-0.29542815j  1.89319677e-01-3.51845442j]\n",
            " ...\n",
            " [ 5.69269913e-01+1.80132634j  2.18042971e-01+0.13794904j\n",
            "   1.82013051e+00-2.47814922j ...  1.15446672e+00+0.34577949j\n",
            "   4.80495565e-03-0.90322586j  1.58844376e-01-0.14075213j]\n",
            " [ 6.37575499e-01+1.74128091j  2.51364074e-01+0.12330698j\n",
            "   6.24064113e-01-0.07074514j ...  1.14411462e+00+0.27859509j\n",
            "  -2.43374646e-02-0.89285802j  1.55789476e-01-0.08232782j]\n",
            " [ 5.68321614e-01+1.72309999j  2.07269352e-01+0.16684155j\n",
            "   5.61115406e-01-0.11140662j ... -5.77442078e-01-2.02935773j\n",
            "  -8.01738081e-01-0.30613412j -7.16289907e-02-0.15106329j]]\n",
            "[[ 6.123234e-17-1.0000000e+00j  6.123234e-17-1.0000000e+00j\n",
            "   6.123234e-17-1.0000000e+00j ...  1.000000e+00+0.0000000e+00j\n",
            "   6.123234e-17-1.0000000e+00j -1.000000e+00+1.2246468e-16j]\n",
            " [ 1.000000e+00+0.0000000e+00j  6.123234e-17+1.0000000e+00j\n",
            "   6.123234e-17+1.0000000e+00j ...  6.123234e-17-1.0000000e+00j\n",
            "   6.123234e-17-1.0000000e+00j  6.123234e-17-1.0000000e+00j]\n",
            " [ 6.123234e-17-1.0000000e+00j  6.123234e-17-1.0000000e+00j\n",
            "  -1.000000e+00+1.2246468e-16j ...  1.000000e+00+0.0000000e+00j\n",
            "   6.123234e-17-1.0000000e+00j -1.000000e+00+1.2246468e-16j]\n",
            " ...\n",
            " [ 6.123234e-17-1.0000000e+00j  6.123234e-17-1.0000000e+00j\n",
            "  -1.000000e+00+1.2246468e-16j ...  1.000000e+00+0.0000000e+00j\n",
            "   6.123234e-17+1.0000000e+00j  6.123234e-17-1.0000000e+00j]\n",
            " [ 6.123234e-17-1.0000000e+00j  6.123234e-17-1.0000000e+00j\n",
            "   6.123234e-17-1.0000000e+00j ...  1.000000e+00+0.0000000e+00j\n",
            "   6.123234e-17+1.0000000e+00j  6.123234e-17-1.0000000e+00j]\n",
            " [ 6.123234e-17-1.0000000e+00j  6.123234e-17-1.0000000e+00j\n",
            "   6.123234e-17-1.0000000e+00j ...  1.000000e+00+0.0000000e+00j\n",
            "   6.123234e-17-1.0000000e+00j -1.000000e+00+1.2246468e-16j]]\n"
          ],
          "name": "stdout"
        }
      ]
    },
    {
      "cell_type": "code",
      "metadata": {
        "id": "Y0N0ypPV7jTh",
        "colab": {
          "base_uri": "https://localhost:8080/",
          "height": 34
        },
        "outputId": "9080d0da-aa84-4d1f-e46f-0b8ed2426ab6"
      },
      "source": [
        "noise_lstm_inp = np.zeros((820000,2,105),dtype=np.float32)\n",
        "noise_lstm.shape"
      ],
      "execution_count": null,
      "outputs": [
        {
          "output_type": "execute_result",
          "data": {
            "text/plain": [
              "(820000, 105)"
            ]
          },
          "metadata": {
            "tags": []
          },
          "execution_count": 22
        }
      ]
    },
    {
      "cell_type": "code",
      "metadata": {
        "id": "9fpcvdZ58ImJ"
      },
      "source": [
        "for i in range(noise_lstm.shape[0]):\n",
        "  noise_lstm_inp[i][0]=noise_lstm[i].real\n",
        "  noise_lstm_inp[i][1]=noise_lstm[i].imag"
      ],
      "execution_count": null,
      "outputs": []
    },
    {
      "cell_type": "code",
      "metadata": {
        "id": "akCXloFt8KXP",
        "colab": {
          "base_uri": "https://localhost:8080/",
          "height": 561
        },
        "outputId": "b43be59a-5088-4b61-aaff-06cb7dfbcf29"
      },
      "source": [
        "dataset=dataset.reshape(20000,64)\n",
        "dt=np.zeros((820000,64))\n",
        "\n",
        "for i in range(41):\n",
        "  dt[i*20000:(i+1)*20000]=dataset\n",
        "  \n",
        "print(dt.shape)\n",
        "print(noise_lstm_inp)"
      ],
      "execution_count": null,
      "outputs": [
        {
          "output_type": "stream",
          "text": [
            "(820000, 64)\n",
            "[[[-1.0401115e+00 -2.4117415e+00  5.1936793e+00 ... -1.5157831e-01\n",
            "    1.0920013e-01 -1.6300797e-01]\n",
            "  [-9.6096855e-01 -3.1003780e+00  7.9217505e-01 ... -2.9094086e+00\n",
            "    4.5510933e-01 -2.1322045e+00]]\n",
            "\n",
            " [[-9.2938805e-01  1.5011829e+00  3.6131480e+00 ...  1.2052350e+00\n",
            "    2.5406160e+00  1.2665354e+00]\n",
            "  [ 1.8419878e+00 -5.8951797e+00  4.3023843e-01 ...  8.1336850e-01\n",
            "   -1.3586397e+00 -1.0119717e+00]]\n",
            "\n",
            " [[ 3.2578340e+00  3.3234438e-01  4.8491406e+00 ...  1.1090399e-01\n",
            "    1.3372383e+00  1.7501251e+00]\n",
            "  [ 5.6983513e-01  6.5802276e-01 -2.4488373e+00 ... -3.8617895e+00\n",
            "    3.1586152e-02  1.3684515e+00]]\n",
            "\n",
            " ...\n",
            "\n",
            " [[ 5.6439084e-01  2.4300860e-01  1.8080622e+00 ...  1.1654315e+00\n",
            "    3.1268434e-03  1.7263669e-01]\n",
            "  [ 1.7573537e+00  1.7839950e-01 -2.4557123e+00 ...  3.1381556e-01\n",
            "   -8.9658868e-01 -7.9353981e-02]]\n",
            "\n",
            " [[ 5.7403696e-01  2.5647801e-01  5.7608920e-01 ...  1.1790966e+00\n",
            "    1.5531872e-02  1.8520661e-01]\n",
            "  [ 1.7607805e+00  1.6861993e-01 -1.4110324e-01 ...  3.3714169e-01\n",
            "   -8.7934875e-01 -9.9040881e-02]]\n",
            "\n",
            " [[ 5.7482171e-01  2.6068062e-01  5.9791023e-01 ... -5.6829077e-01\n",
            "   -8.3074325e-01 -9.6326753e-02]\n",
            "  [ 1.7784382e+00  1.4083578e-01 -7.1890898e-02 ... -2.0451024e+00\n",
            "   -2.6379222e-01 -1.9295742e-01]]]\n"
          ],
          "name": "stdout"
        }
      ]
    },
    {
      "cell_type": "code",
      "metadata": {
        "id": "waACVzpX8MSE"
      },
      "source": [
        "from keras.layers import Bidirectional\n",
        "from keras.layers import LSTM\n",
        "from keras.models import Sequential\n",
        "from keras.layers import LSTM\n",
        "from keras.layers import Dense,BatchNormalization, Dropout\n",
        "from keras.callbacks import EarlyStopping\n",
        "\n",
        "model2 = Sequential()\n",
        "model2.add(Bidirectional(LSTM(800, return_sequences=True,\n",
        "               input_shape=(2, 105))))\n",
        "#model2.add(Dropout(0.05))\n",
        "model2.add(BatchNormalization())  \n",
        "model2.add(Bidirectional(LSTM(800)))\n",
        "#model2.add(Dropout(0.01))\n",
        "model2.add(BatchNormalization())\n",
        "model2.add(Dense(64, activation='sigmoid'))\n",
        "model2.compile(loss='binary_crossentropy', optimizer='Adam', metrics=['accuracy'])"
      ],
      "execution_count": null,
      "outputs": []
    },
    {
      "cell_type": "code",
      "metadata": {
        "id": "qDUnNeeR8Pwf",
        "colab": {
          "base_uri": "https://localhost:8080/",
          "height": 663
        },
        "outputId": "5605018e-ea26-45c6-ffe1-fd91ebf4df1b"
      },
      "source": [
        "randomize = np.arange(820000)\n",
        "np.random.shuffle(randomize)\n",
        "x = noise_lstm_inp[randomize]\n",
        "y = dt[randomize]\n",
        "\n",
        "print(x)\n",
        "print(y)\n"
      ],
      "execution_count": null,
      "outputs": [
        {
          "output_type": "stream",
          "text": [
            "[[[-1.9527283   0.8558607   0.11514553 ...  1.2540605   0.02314717\n",
            "    0.30929205]\n",
            "  [ 0.35895437 -2.1641905   0.33228093 ...  0.17654578 -1.1504395\n",
            "   -0.5704881 ]]\n",
            "\n",
            " [[-1.7630405   0.98001754  0.03783542 ...  1.5345184   0.29851937\n",
            "    0.16012096]\n",
            "  [ 0.614659   -2.1295605   0.24498786 ... -1.9593947  -1.0720073\n",
            "   -0.08471724]]\n",
            "\n",
            " [[-1.8655496   0.82590395 -0.82519424 ...  0.6081118  -0.20382725\n",
            "    0.08993047]\n",
            "  [ 0.6746531  -1.747569    2.2441685  ...  0.7379636  -0.29315418\n",
            "    0.20558575]]\n",
            "\n",
            " ...\n",
            "\n",
            " [[-2.8522878   2.183634   -1.4870509  ... -0.41439894 -0.85290456\n",
            "    0.7891348 ]\n",
            "  [ 0.9009489   3.6585555  -4.4181404  ... -1.423339    1.6245722\n",
            "   -2.0094218 ]]\n",
            "\n",
            " [[ 0.73768836  0.31961715  1.8485113  ...  1.1731714   0.07175017\n",
            "    0.12144542]\n",
            "  [ 1.7157925   0.21755186 -2.485336   ...  0.27213457 -0.86132693\n",
            "   -0.02198214]]\n",
            "\n",
            " [[ 0.65022856  0.28699118  1.7409092  ... -0.5899379  -0.84096336\n",
            "   -0.25583428]\n",
            "  [ 1.7950004   0.01579049 -2.490728   ... -2.0155473  -0.24310696\n",
            "   -0.3017296 ]]]\n",
            "[[1. 1. 1. ... 1. 1. 0.]\n",
            " [1. 1. 0. ... 1. 0. 0.]\n",
            " [1. 0. 1. ... 1. 1. 0.]\n",
            " ...\n",
            " [0. 0. 0. ... 0. 1. 1.]\n",
            " [0. 1. 0. ... 1. 1. 0.]\n",
            " [0. 1. 0. ... 1. 1. 1.]]\n"
          ],
          "name": "stdout"
        }
      ]
    },
    {
      "cell_type": "code",
      "metadata": {
        "id": "h0vgSlpS8SEc"
      },
      "source": [
        "y=y.astype(int)"
      ],
      "execution_count": null,
      "outputs": []
    },
    {
      "cell_type": "code",
      "metadata": {
        "id": "S7S3BAMJ8ZDJ"
      },
      "source": [
        "earlystop=EarlyStopping(monitor='val_loss', patience=1, verbose=1)"
      ],
      "execution_count": null,
      "outputs": []
    },
    {
      "cell_type": "code",
      "metadata": {
        "id": "Uf069vMQ8at3",
        "colab": {
          "base_uri": "https://localhost:8080/",
          "height": 153
        },
        "outputId": "cb6c8c66-64a1-44cb-9791-54bffbd8ccfc"
      },
      "source": [
        "history=model2.fit(x=x, y=y, batch_size=1000, epochs=50, verbose=1, validation_split=0.1 , callbacks=[earlystop], shuffle=True)\n"
      ],
      "execution_count": null,
      "outputs": [
        {
          "output_type": "stream",
          "text": [
            "Train on 738000 samples, validate on 82000 samples\n",
            "Epoch 1/50\n",
            "738000/738000 [==============================] - 186s 252us/step - loss: 0.0780 - acc: 0.9703 - val_loss: 0.0366 - val_acc: 0.9858\n",
            "Epoch 2/50\n",
            "738000/738000 [==============================] - 180s 244us/step - loss: 0.0258 - acc: 0.9902 - val_loss: 0.0303 - val_acc: 0.9884\n",
            "Epoch 3/50\n",
            "738000/738000 [==============================] - 179s 243us/step - loss: 0.0150 - acc: 0.9944 - val_loss: 0.0310 - val_acc: 0.9890\n",
            "Epoch 00003: early stopping\n"
          ],
          "name": "stdout"
        }
      ]
    },
    {
      "cell_type": "code",
      "metadata": {
        "id": "M5dqduc_8dEp",
        "colab": {
          "base_uri": "https://localhost:8080/",
          "height": 34
        },
        "outputId": "5ef6e187-b30a-4bd6-f4b5-483ab75f1f62"
      },
      "source": [
        "noise_lstm_test = np.zeros((82000,105)) + 1j*np.zeros((82000,105))\n",
        "noise_vit_test = np.zeros((82000,105)) + 1j*np.zeros((82000,105))\n",
        "mod_vit_test = np.zeros((82000,99)) + 1j*np.zeros((82000,99))\n",
        "\n",
        "y_l=0\n",
        "psk=m.PSKModem(4)\n",
        "y_c=0\n",
        "print(snr)\n",
        "encoded_lstm_test=np.array(np.round(model1.predict(testdata.reshape(2000,1,64))),dtype=np.int32)"
      ],
      "execution_count": null,
      "outputs": [
        {
          "output_type": "stream",
          "text": [
            "[0, 1, 2, 3, 4, 5, 6, 7, 8, 9, 10, 11, 12, 13, 14, 15, 16, 17, 18, 19, 20, 21, 22, 23, 24, 25, 26, 27, 28, 29, 30, 31, 32, 33, 34, 35, 36, 37, 38, 39, 40]\n"
          ],
          "name": "stdout"
        }
      ]
    },
    {
      "cell_type": "code",
      "metadata": {
        "id": "1ntjvv6J86FD",
        "colab": {
          "base_uri": "https://localhost:8080/",
          "height": 986
        },
        "outputId": "e92b5f82-6467-41a0-fb8b-5b842a7240a5"
      },
      "source": [
        "k=-1\n",
        "for s in snr:\n",
        "  for i in range(encoded_test.shape[0]):\n",
        "      k=k+1\n",
        "      y_l=psk.modulate(encoded_lstm_test[i])\n",
        "      y_l = add_channel(y_l)\n",
        "      y_l = cch.awgn(y_l,s)\n",
        "      noise_lstm_test[k] = y_l\n",
        "\n",
        "      y_c=psk.modulate(encoded_test[i])\n",
        "      mod_vit_test[k]=y_c\n",
        "      y_c = add_channel(y_c)\n",
        "      y_c = cch.awgn(y_c,s)\n",
        "      noise_vit_test[k]= y_c\n",
        "    \n",
        "print(noise_lstm_test)\n",
        "print(noise_vit_test)\n",
        "print(mod_vit_test)"
      ],
      "execution_count": null,
      "outputs": [
        {
          "output_type": "stream",
          "text": [
            "[[ 3.07057718e+00+3.20080693j  1.09347704e+00-1.4704402j\n",
            "   2.88023896e+00+3.40563474j ...  7.96283347e-01-3.40558496j\n",
            "  -1.38985649e-01-0.91069221j  2.55783549e+00-1.7132587j ]\n",
            " [ 2.48164256e+00+3.06870097j -3.17203400e-01-0.32088976j\n",
            "   2.74982775e+00+0.26732112j ... -4.98545180e-03-1.762383j\n",
            "  -6.32585547e+00-0.78449172j  2.21831854e+00+0.92309831j]\n",
            " [-1.85070751e+00+2.07773867j  1.94463473e+00+1.16581397j\n",
            "   1.15604722e+00-5.82254811j ...  7.37270121e+00-1.60402483j\n",
            "   2.41810301e+00-5.02656475j  2.12450763e+00-1.35961325j]\n",
            " ...\n",
            " [-1.79486036e+00+0.57171809j  9.71838201e-01-2.16598386j\n",
            "   7.60336862e-02+0.18252452j ...  1.59010390e+00-1.95715971j\n",
            "   3.59023353e-01-1.10249005j  1.94541821e-01-0.08412123j]\n",
            " [ 5.49676941e-01+1.81458198j  2.17436040e-01+0.15948174j\n",
            "   6.01979833e-01-0.13035148j ...  1.12854774e+00+0.30889469j\n",
            "   1.94768223e-02-0.90805548j  2.10245627e-01-0.11246983j]\n",
            " [-1.79321664e+00+0.62303412j  1.03436934e+00-2.15373851j\n",
            "   5.02263829e-02+0.25427471j ...  1.59064246e+00-1.92529981j\n",
            "   3.48710228e-01-1.09042701j  1.66199970e-01-0.08623618j]]\n",
            "[[-1.57139579-0.48630731j -3.93448449+1.27221158j  0.87540063-0.83601784j\n",
            "  ... -0.79126146-1.67181523j -3.150439  +3.68075382j\n",
            "  -1.89684469-0.52087841j]\n",
            " [ 3.10676087+5.25400221j  2.27637978+3.68489175j  1.7364049 +0.46018792j\n",
            "  ... -1.01798856-5.11031276j -1.88288242-1.87269468j\n",
            "   1.6227842 -2.10246647j]\n",
            " [-4.38336573+0.76852687j -0.3155167 -2.12771098j  5.03514826-4.45681341j\n",
            "  ... -4.86717383-4.5065861j   2.3815265 +0.19875349j\n",
            "  -0.36572014-1.12064493j]\n",
            " ...\n",
            " [-1.81330439+0.60987136j  1.02062925-2.1602932j   0.03955814+0.1999351j\n",
            "  ...  1.60460153-1.96133367j  0.34217408-1.07902244j\n",
            "   0.19484233-0.08626532j]\n",
            " [ 0.58440328+1.74297518j  0.21535745+0.1970755j   0.59370723-0.08684003j\n",
            "  ...  1.18467602+0.33185516j  0.00656973-0.90990062j\n",
            "   0.18406531-0.10317521j]\n",
            " [-1.77263951+0.61680076j  1.01447161-2.12151231j  0.05419581+0.19628301j\n",
            "  ...  1.56138362-1.95360171j  0.34226589-1.07996132j\n",
            "   0.16048146-0.1084942j ]]\n",
            "[[ 6.123234e-17-1.0000000e+00j  6.123234e-17-1.0000000e+00j\n",
            "   6.123234e-17-1.0000000e+00j ...  6.123234e-17-1.0000000e+00j\n",
            "   6.123234e-17+1.0000000e+00j -1.000000e+00+1.2246468e-16j]\n",
            " [ 6.123234e-17-1.0000000e+00j  6.123234e-17-1.0000000e+00j\n",
            "  -1.000000e+00+1.2246468e-16j ...  1.000000e+00+0.0000000e+00j\n",
            "   6.123234e-17-1.0000000e+00j -1.000000e+00+1.2246468e-16j]\n",
            " [ 6.123234e-17-1.0000000e+00j  6.123234e-17-1.0000000e+00j\n",
            "  -1.000000e+00+1.2246468e-16j ...  6.123234e-17-1.0000000e+00j\n",
            "   6.123234e-17-1.0000000e+00j  6.123234e-17-1.0000000e+00j]\n",
            " ...\n",
            " [ 1.000000e+00+0.0000000e+00j  6.123234e-17+1.0000000e+00j\n",
            "   6.123234e-17+1.0000000e+00j ...  6.123234e-17-1.0000000e+00j\n",
            "   6.123234e-17-1.0000000e+00j  6.123234e-17-1.0000000e+00j]\n",
            " [ 6.123234e-17-1.0000000e+00j  6.123234e-17-1.0000000e+00j\n",
            "   6.123234e-17-1.0000000e+00j ...  1.000000e+00+0.0000000e+00j\n",
            "   6.123234e-17+1.0000000e+00j  6.123234e-17-1.0000000e+00j]\n",
            " [ 1.000000e+00+0.0000000e+00j  6.123234e-17+1.0000000e+00j\n",
            "   6.123234e-17+1.0000000e+00j ...  6.123234e-17-1.0000000e+00j\n",
            "   6.123234e-17-1.0000000e+00j  6.123234e-17-1.0000000e+00j]]\n"
          ],
          "name": "stdout"
        }
      ]
    },
    {
      "cell_type": "code",
      "metadata": {
        "id": "_c9eZuT88_vd"
      },
      "source": [
        "noise_lstm_inp_test = np.zeros((82000,2,105),dtype=np.float32)"
      ],
      "execution_count": null,
      "outputs": []
    },
    {
      "cell_type": "code",
      "metadata": {
        "id": "2xfREn5f9G34"
      },
      "source": [
        "for i in range(noise_lstm_test.shape[0]):\n",
        "  noise_lstm_inp_test[i][0]=noise_lstm_test[i].real\n",
        "  noise_lstm_inp_test[i][1]=noise_lstm_test[i].imag"
      ],
      "execution_count": null,
      "outputs": []
    },
    {
      "cell_type": "code",
      "metadata": {
        "id": "Z0whLJEk9IjS"
      },
      "source": [
        "dt_test=np.zeros((82000,64))\n",
        "testdata=testdata.reshape(2000,64)\n",
        "\n",
        "for i in range(41):\n",
        "  dt_test[i*2000:(i+1)*2000]=testdata"
      ],
      "execution_count": null,
      "outputs": []
    },
    {
      "cell_type": "code",
      "metadata": {
        "id": "NlDTC91e9KSZ",
        "colab": {
          "base_uri": "https://localhost:8080/",
          "height": 51
        },
        "outputId": "f919c335-1d6f-46d5-823a-721905b76b22"
      },
      "source": [
        "model2.evaluate(x=noise_lstm_inp_test,y=dt_test,batch_size=1000)\n"
      ],
      "execution_count": null,
      "outputs": [
        {
          "output_type": "stream",
          "text": [
            "82000/82000 [==============================] - 7s 80us/step\n"
          ],
          "name": "stdout"
        },
        {
          "output_type": "execute_result",
          "data": {
            "text/plain": [
              "[0.04533492390168604, 0.9841455809953736]"
            ]
          },
          "metadata": {
            "tags": []
          },
          "execution_count": 35
        }
      ]
    },
    {
      "cell_type": "code",
      "metadata": {
        "id": "OsI3q_AY9MAU",
        "colab": {
          "base_uri": "https://localhost:8080/",
          "height": 51
        },
        "outputId": "0044c56d-8a8d-4aa8-c3ba-0f85db633fc0"
      },
      "source": [
        "model2.evaluate(x=noise_lstm_inp,y=dt,batch_size=1000)"
      ],
      "execution_count": null,
      "outputs": [
        {
          "output_type": "stream",
          "text": [
            "820000/820000 [==============================] - 64s 78us/step\n"
          ],
          "name": "stdout"
        },
        {
          "output_type": "execute_result",
          "data": {
            "text/plain": [
              "[0.011194530991402954, 0.996156709005193]"
            ]
          },
          "metadata": {
            "tags": []
          },
          "execution_count": 36
        }
      ]
    },
    {
      "cell_type": "code",
      "metadata": {
        "id": "NibDifuR9PWj"
      },
      "source": [
        "decoded_lstm = np.array(np.round(model2.predict(noise_lstm_inp)),dtype=np.int32)\n",
        "decoded_lstm_test = np.array(np.round(model2.predict(noise_lstm_inp_test)),dtype=np.int32)"
      ],
      "execution_count": null,
      "outputs": []
    },
    {
      "cell_type": "code",
      "metadata": {
        "id": "1Rxa33I_9V4g",
        "colab": {
          "base_uri": "https://localhost:8080/",
          "height": 51
        },
        "outputId": "1f73d8cf-6d03-4e91-aa28-e4722888d0ab"
      },
      "source": [
        "print(decoded_lstm.shape)\n",
        "print(decoded_lstm_test.shape)"
      ],
      "execution_count": null,
      "outputs": [
        {
          "output_type": "stream",
          "text": [
            "(820000, 64)\n",
            "(82000, 64)\n"
          ],
          "name": "stdout"
        }
      ]
    },
    {
      "cell_type": "code",
      "metadata": {
        "id": "4G0YpkQf9f5d",
        "colab": {
          "base_uri": "https://localhost:8080/",
          "height": 51
        },
        "outputId": "43635d0a-2994-4096-b3f1-bfe2a597ac5e"
      },
      "source": [
        "print(noise_vit.shape)\n",
        "print(mod_vit.shape)"
      ],
      "execution_count": null,
      "outputs": [
        {
          "output_type": "stream",
          "text": [
            "(820000, 105)\n",
            "(820000, 99)\n"
          ],
          "name": "stdout"
        }
      ]
    },
    {
      "cell_type": "code",
      "metadata": {
        "id": "4XbV1NV09hqu",
        "colab": {
          "base_uri": "https://localhost:8080/",
          "height": 663
        },
        "outputId": "d2cf824e-a40b-4ed7-8993-7fcb8ecba2b8"
      },
      "source": [
        "print(noise_vit)\n",
        "print(mod_vit)"
      ],
      "execution_count": null,
      "outputs": [
        {
          "output_type": "stream",
          "text": [
            "[[ 4.88093777e+00+4.29491685j  3.11231651e+00+2.98661252j\n",
            "   2.75877675e+00-1.07483335j ... -1.17300075e+00-0.52329067j\n",
            "   1.60265484e+00+4.52967333j  1.48884291e+00+2.31437485j]\n",
            " [-4.58806935e+00-1.18260449j -9.67268723e-01-7.08429104j\n",
            "  -2.01002862e+00+2.24797966j ...  2.10423955e-01+4.39891343j\n",
            "   1.76028075e+00+0.3341835j  -3.31896145e-01-1.6266704j ]\n",
            " [ 1.65867065e+00+2.90992384j -1.97056709e+00-0.29833335j\n",
            "   3.00525788e+00-3.74528816j ...  2.70304455e-01+1.54660514j\n",
            "   1.42562230e+00-0.29542815j  1.89319677e-01-3.51845442j]\n",
            " ...\n",
            " [ 5.69269913e-01+1.80132634j  2.18042971e-01+0.13794904j\n",
            "   1.82013051e+00-2.47814922j ...  1.15446672e+00+0.34577949j\n",
            "   4.80495565e-03-0.90322586j  1.58844376e-01-0.14075213j]\n",
            " [ 6.37575499e-01+1.74128091j  2.51364074e-01+0.12330698j\n",
            "   6.24064113e-01-0.07074514j ...  1.14411462e+00+0.27859509j\n",
            "  -2.43374646e-02-0.89285802j  1.55789476e-01-0.08232782j]\n",
            " [ 5.68321614e-01+1.72309999j  2.07269352e-01+0.16684155j\n",
            "   5.61115406e-01-0.11140662j ... -5.77442078e-01-2.02935773j\n",
            "  -8.01738081e-01-0.30613412j -7.16289907e-02-0.15106329j]]\n",
            "[[ 6.123234e-17-1.0000000e+00j  6.123234e-17-1.0000000e+00j\n",
            "   6.123234e-17-1.0000000e+00j ...  1.000000e+00+0.0000000e+00j\n",
            "   6.123234e-17-1.0000000e+00j -1.000000e+00+1.2246468e-16j]\n",
            " [ 1.000000e+00+0.0000000e+00j  6.123234e-17+1.0000000e+00j\n",
            "   6.123234e-17+1.0000000e+00j ...  6.123234e-17-1.0000000e+00j\n",
            "   6.123234e-17-1.0000000e+00j  6.123234e-17-1.0000000e+00j]\n",
            " [ 6.123234e-17-1.0000000e+00j  6.123234e-17-1.0000000e+00j\n",
            "  -1.000000e+00+1.2246468e-16j ...  1.000000e+00+0.0000000e+00j\n",
            "   6.123234e-17-1.0000000e+00j -1.000000e+00+1.2246468e-16j]\n",
            " ...\n",
            " [ 6.123234e-17-1.0000000e+00j  6.123234e-17-1.0000000e+00j\n",
            "  -1.000000e+00+1.2246468e-16j ...  1.000000e+00+0.0000000e+00j\n",
            "   6.123234e-17+1.0000000e+00j  6.123234e-17-1.0000000e+00j]\n",
            " [ 6.123234e-17-1.0000000e+00j  6.123234e-17-1.0000000e+00j\n",
            "   6.123234e-17-1.0000000e+00j ...  1.000000e+00+0.0000000e+00j\n",
            "   6.123234e-17+1.0000000e+00j  6.123234e-17-1.0000000e+00j]\n",
            " [ 6.123234e-17-1.0000000e+00j  6.123234e-17-1.0000000e+00j\n",
            "   6.123234e-17-1.0000000e+00j ...  1.000000e+00+0.0000000e+00j\n",
            "   6.123234e-17-1.0000000e+00j -1.000000e+00+1.2246468e-16j]]\n"
          ],
          "name": "stdout"
        }
      ]
    },
    {
      "cell_type": "code",
      "metadata": {
        "id": "HV5Vg7ax9mQP"
      },
      "source": [
        "mod_vit_out=np.zeros((820000,198),dtype=np.float32)\n",
        "noise_vit_in=np.zeros((820000,210),dtype=np.float32)\n",
        "\n"
      ],
      "execution_count": null,
      "outputs": []
    },
    {
      "cell_type": "code",
      "metadata": {
        "id": "EyJmO4MDDnsD",
        "colab": {
          "base_uri": "https://localhost:8080/",
          "height": 255
        },
        "outputId": "1dce3d2a-7ec2-45a6-dfda-6ba31c71c49b"
      },
      "source": [
        "print(decoded_lstm)\n",
        "print(decoded_lstm_test)"
      ],
      "execution_count": null,
      "outputs": [
        {
          "output_type": "stream",
          "text": [
            "[[0 0 0 ... 0 1 1]\n",
            " [1 1 0 ... 0 0 0]\n",
            " [0 1 0 ... 0 1 1]\n",
            " ...\n",
            " [0 1 1 ... 1 1 0]\n",
            " [0 0 1 ... 0 1 0]\n",
            " [0 0 0 ... 1 1 1]]\n",
            "[[0 0 0 ... 1 0 1]\n",
            " [0 1 1 ... 1 1 1]\n",
            " [0 1 1 ... 0 0 0]\n",
            " ...\n",
            " [1 1 0 ... 0 0 0]\n",
            " [0 0 1 ... 0 1 0]\n",
            " [1 1 1 ... 0 0 0]]\n"
          ],
          "name": "stdout"
        }
      ]
    },
    {
      "cell_type": "code",
      "metadata": {
        "id": "arvM09Hm9oqL"
      },
      "source": [
        "for i in range(noise_vit.shape[0]):\n",
        "  noise_vit_in[i][0:105]=noise_vit[i].real\n",
        "  noise_vit_in[i][105:]=noise_vit[i].imag\n",
        "  mod_vit_out[i][0:99] = mod_vit[i].real\n",
        "  mod_vit_out[i][99:] = mod_vit[i].imag"
      ],
      "execution_count": null,
      "outputs": []
    },
    {
      "cell_type": "code",
      "metadata": {
        "id": "MfM_9TbI-8Ck",
        "colab": {
          "base_uri": "https://localhost:8080/",
          "height": 459
        },
        "outputId": "0bc4f313-dc12-45c1-db9f-a47f304c4656"
      },
      "source": [
        "print(noise_vit_in)\n",
        "print(mod_vit_out)"
      ],
      "execution_count": null,
      "outputs": [
        {
          "output_type": "stream",
          "text": [
            "[[ 4.8809376   3.1123166   2.7587767  ... -0.5232907   4.529673\n",
            "   2.314375  ]\n",
            " [-4.5880694  -0.9672687  -2.0100286  ...  4.3989134   0.33418348\n",
            "  -1.6266704 ]\n",
            " [ 1.6586707  -1.9705671   3.0052578  ...  1.5466051  -0.29542816\n",
            "  -3.5184543 ]\n",
            " ...\n",
            " [ 0.5692699   0.21804297  1.8201305  ...  0.3457795  -0.90322584\n",
            "  -0.14075214]\n",
            " [ 0.6375755   0.25136408  0.6240641  ...  0.2785951  -0.892858\n",
            "  -0.08232782]\n",
            " [ 0.5683216   0.20726936  0.5611154  ... -2.0293577  -0.3061341\n",
            "  -0.15106328]]\n",
            "[[ 6.1232343e-17  6.1232343e-17  6.1232343e-17 ...  0.0000000e+00\n",
            "  -1.0000000e+00  1.2246469e-16]\n",
            " [ 1.0000000e+00  6.1232343e-17  6.1232343e-17 ... -1.0000000e+00\n",
            "  -1.0000000e+00 -1.0000000e+00]\n",
            " [ 6.1232343e-17  6.1232343e-17 -1.0000000e+00 ...  0.0000000e+00\n",
            "  -1.0000000e+00  1.2246469e-16]\n",
            " ...\n",
            " [ 6.1232343e-17  6.1232343e-17 -1.0000000e+00 ...  0.0000000e+00\n",
            "   1.0000000e+00 -1.0000000e+00]\n",
            " [ 6.1232343e-17  6.1232343e-17  6.1232343e-17 ...  0.0000000e+00\n",
            "   1.0000000e+00 -1.0000000e+00]\n",
            " [ 6.1232343e-17  6.1232343e-17  6.1232343e-17 ...  0.0000000e+00\n",
            "  -1.0000000e+00  1.2246469e-16]]\n"
          ],
          "name": "stdout"
        }
      ]
    },
    {
      "cell_type": "code",
      "metadata": {
        "id": "0oW9B_qR_u_n"
      },
      "source": [
        "#LMS is like 1 layer Neural Network\n",
        "\n",
        "from keras.layers import Bidirectional,Reshape\n",
        "from keras.layers import LSTM\n",
        "from keras.models import Sequential\n",
        "from keras.layers import LSTM\n",
        "from keras.layers import Dense,BatchNormalization, Dropout\n",
        "from keras.callbacks import EarlyStopping\n",
        "\n",
        "model3 = Sequential()\n",
        "model3.add(Dense(198, input_shape=(210,)))\n",
        "model3.compile(loss='mse', optimizer='sgd', metrics=['accuracy'])"
      ],
      "execution_count": null,
      "outputs": []
    },
    {
      "cell_type": "code",
      "metadata": {
        "id": "QPzXqXnv_4es",
        "colab": {
          "base_uri": "https://localhost:8080/",
          "height": 221
        },
        "outputId": "ddffadc1-64db-4bb8-82fc-a2c04039d41d"
      },
      "source": [
        "model3.summary()\n",
        "history=model3.fit(x=noise_vit_in, y=mod_vit_out, batch_size=1000, epochs=1, verbose=1, validation_split=0.1 , callbacks=[earlystop], shuffle=True)\n"
      ],
      "execution_count": null,
      "outputs": [
        {
          "output_type": "stream",
          "text": [
            "_________________________________________________________________\n",
            "Layer (type)                 Output Shape              Param #   \n",
            "=================================================================\n",
            "dense_3 (Dense)              (None, 198)               41778     \n",
            "=================================================================\n",
            "Total params: 41,778\n",
            "Trainable params: 41,778\n",
            "Non-trainable params: 0\n",
            "_________________________________________________________________\n",
            "Train on 738000 samples, validate on 82000 samples\n",
            "Epoch 1/1\n",
            "738000/738000 [==============================] - 4s 6us/step - loss: 0.0540 - acc: 0.2240 - val_loss: 0.0287 - val_acc: 0.0292\n"
          ],
          "name": "stdout"
        }
      ]
    },
    {
      "cell_type": "code",
      "metadata": {
        "id": "2rrm9eeAAHZY"
      },
      "source": [
        "mod_vit_out = np.array(np.round(model3.predict(noise_vit_in)),dtype=np.float32)"
      ],
      "execution_count": null,
      "outputs": []
    },
    {
      "cell_type": "code",
      "metadata": {
        "id": "DzXQisNvAOod",
        "colab": {
          "base_uri": "https://localhost:8080/",
          "height": 136
        },
        "outputId": "d73f24e1-7f65-41e3-822e-ff59fcceed9f"
      },
      "source": [
        "print(mod_vit_out)"
      ],
      "execution_count": null,
      "outputs": [
        {
          "output_type": "stream",
          "text": [
            "[[ 1.  1. -2. ... -0.  1.  1.]\n",
            " [ 3.  1.  1. ... -1. -1.  2.]\n",
            " [-0. -0.  1. ... -1. -0.  0.]\n",
            " ...\n",
            " [-0.  0. -1. ...  0.  1. -1.]\n",
            " [ 0.  0.  0. ...  0.  1. -1.]\n",
            " [-0. -0. -0. ... -0. -1. -0.]]\n"
          ],
          "name": "stdout"
        }
      ]
    },
    {
      "cell_type": "code",
      "metadata": {
        "id": "PZBmLY4-AUMv"
      },
      "source": [
        "mod_vit_out_test=np.zeros((82000,198),dtype=np.float32)\n",
        "noise_vit_in_test=np.zeros((82000,210),dtype=np.float32)"
      ],
      "execution_count": null,
      "outputs": []
    },
    {
      "cell_type": "code",
      "metadata": {
        "id": "LG6aDDbmA-s_",
        "colab": {
          "base_uri": "https://localhost:8080/",
          "height": 663
        },
        "outputId": "1ab75e76-b377-48d0-dad0-35a4cf0843fc"
      },
      "source": [
        "print(noise_vit_test)\n",
        "print(mod_vit_test)"
      ],
      "execution_count": null,
      "outputs": [
        {
          "output_type": "stream",
          "text": [
            "[[-1.57139579-0.48630731j -3.93448449+1.27221158j  0.87540063-0.83601784j\n",
            "  ... -0.79126146-1.67181523j -3.150439  +3.68075382j\n",
            "  -1.89684469-0.52087841j]\n",
            " [ 3.10676087+5.25400221j  2.27637978+3.68489175j  1.7364049 +0.46018792j\n",
            "  ... -1.01798856-5.11031276j -1.88288242-1.87269468j\n",
            "   1.6227842 -2.10246647j]\n",
            " [-4.38336573+0.76852687j -0.3155167 -2.12771098j  5.03514826-4.45681341j\n",
            "  ... -4.86717383-4.5065861j   2.3815265 +0.19875349j\n",
            "  -0.36572014-1.12064493j]\n",
            " ...\n",
            " [-1.81330439+0.60987136j  1.02062925-2.1602932j   0.03955814+0.1999351j\n",
            "  ...  1.60460153-1.96133367j  0.34217408-1.07902244j\n",
            "   0.19484233-0.08626532j]\n",
            " [ 0.58440328+1.74297518j  0.21535745+0.1970755j   0.59370723-0.08684003j\n",
            "  ...  1.18467602+0.33185516j  0.00656973-0.90990062j\n",
            "   0.18406531-0.10317521j]\n",
            " [-1.77263951+0.61680076j  1.01447161-2.12151231j  0.05419581+0.19628301j\n",
            "  ...  1.56138362-1.95360171j  0.34226589-1.07996132j\n",
            "   0.16048146-0.1084942j ]]\n",
            "[[ 6.123234e-17-1.0000000e+00j  6.123234e-17-1.0000000e+00j\n",
            "   6.123234e-17-1.0000000e+00j ...  6.123234e-17-1.0000000e+00j\n",
            "   6.123234e-17+1.0000000e+00j -1.000000e+00+1.2246468e-16j]\n",
            " [ 6.123234e-17-1.0000000e+00j  6.123234e-17-1.0000000e+00j\n",
            "  -1.000000e+00+1.2246468e-16j ...  1.000000e+00+0.0000000e+00j\n",
            "   6.123234e-17-1.0000000e+00j -1.000000e+00+1.2246468e-16j]\n",
            " [ 6.123234e-17-1.0000000e+00j  6.123234e-17-1.0000000e+00j\n",
            "  -1.000000e+00+1.2246468e-16j ...  6.123234e-17-1.0000000e+00j\n",
            "   6.123234e-17-1.0000000e+00j  6.123234e-17-1.0000000e+00j]\n",
            " ...\n",
            " [ 1.000000e+00+0.0000000e+00j  6.123234e-17+1.0000000e+00j\n",
            "   6.123234e-17+1.0000000e+00j ...  6.123234e-17-1.0000000e+00j\n",
            "   6.123234e-17-1.0000000e+00j  6.123234e-17-1.0000000e+00j]\n",
            " [ 6.123234e-17-1.0000000e+00j  6.123234e-17-1.0000000e+00j\n",
            "   6.123234e-17-1.0000000e+00j ...  1.000000e+00+0.0000000e+00j\n",
            "   6.123234e-17+1.0000000e+00j  6.123234e-17-1.0000000e+00j]\n",
            " [ 1.000000e+00+0.0000000e+00j  6.123234e-17+1.0000000e+00j\n",
            "   6.123234e-17+1.0000000e+00j ...  6.123234e-17-1.0000000e+00j\n",
            "   6.123234e-17-1.0000000e+00j  6.123234e-17-1.0000000e+00j]]\n"
          ],
          "name": "stdout"
        }
      ]
    },
    {
      "cell_type": "code",
      "metadata": {
        "id": "LzybFVA7BBAw"
      },
      "source": [
        "for i in range(noise_vit_test.shape[0]):\n",
        "  noise_vit_in_test[i][0:105]=noise_vit_test[i].real\n",
        "  noise_vit_in_test[i][105:]=noise_vit_test[i].imag\n",
        "  mod_vit_out_test[i][0:99] = mod_vit_test[i].real\n",
        "  mod_vit_out_test[i][99:] = mod_vit_test[i].imag"
      ],
      "execution_count": null,
      "outputs": []
    },
    {
      "cell_type": "code",
      "metadata": {
        "id": "GiHi8-TJBG6E",
        "colab": {
          "base_uri": "https://localhost:8080/",
          "height": 459
        },
        "outputId": "3902c88e-4ddf-4eb0-e8df-0b807c37feef"
      },
      "source": [
        "print(noise_vit_in_test)\n",
        "print(mod_vit_out_test)"
      ],
      "execution_count": null,
      "outputs": [
        {
          "output_type": "stream",
          "text": [
            "[[-1.5713958  -3.9344845   0.8754006  ... -1.6718153   3.6807537\n",
            "  -0.52087843]\n",
            " [ 3.106761    2.2763798   1.7364049  ... -5.110313   -1.8726947\n",
            "  -2.1024666 ]\n",
            " [-4.3833656  -0.3155167   5.035148   ... -4.506586    0.19875349\n",
            "  -1.1206449 ]\n",
            " ...\n",
            " [-1.8133044   1.0206293   0.03955814 ... -1.9613336  -1.0790224\n",
            "  -0.08626533]\n",
            " [ 0.5844033   0.21535745  0.5937072  ...  0.33185515 -0.9099006\n",
            "  -0.10317521]\n",
            " [-1.7726395   1.0144717   0.05419581 ... -1.9536017  -1.0799613\n",
            "  -0.10849421]]\n",
            "[[ 6.1232343e-17  6.1232343e-17  6.1232343e-17 ... -1.0000000e+00\n",
            "   1.0000000e+00  1.2246469e-16]\n",
            " [ 6.1232343e-17  6.1232343e-17 -1.0000000e+00 ...  0.0000000e+00\n",
            "  -1.0000000e+00  1.2246469e-16]\n",
            " [ 6.1232343e-17  6.1232343e-17 -1.0000000e+00 ... -1.0000000e+00\n",
            "  -1.0000000e+00 -1.0000000e+00]\n",
            " ...\n",
            " [ 1.0000000e+00  6.1232343e-17  6.1232343e-17 ... -1.0000000e+00\n",
            "  -1.0000000e+00 -1.0000000e+00]\n",
            " [ 6.1232343e-17  6.1232343e-17  6.1232343e-17 ...  0.0000000e+00\n",
            "   1.0000000e+00 -1.0000000e+00]\n",
            " [ 1.0000000e+00  6.1232343e-17  6.1232343e-17 ... -1.0000000e+00\n",
            "  -1.0000000e+00 -1.0000000e+00]]\n"
          ],
          "name": "stdout"
        }
      ]
    },
    {
      "cell_type": "code",
      "metadata": {
        "id": "c6SsfyizyC-h",
        "colab": {
          "base_uri": "https://localhost:8080/",
          "height": 51
        },
        "outputId": "e71cb899-302b-420b-be52-7f427f9a58da"
      },
      "source": [
        "model3.evaluate(x=noise_vit_in_test,y=mod_vit_out_test)"
      ],
      "execution_count": null,
      "outputs": [
        {
          "output_type": "stream",
          "text": [
            "82000/82000 [==============================] - 4s 47us/step\n"
          ],
          "name": "stdout"
        },
        {
          "output_type": "execute_result",
          "data": {
            "text/plain": [
              "[0.18286444745957853, 0.022353658536585365]"
            ]
          },
          "metadata": {
            "tags": []
          },
          "execution_count": 85
        }
      ]
    },
    {
      "cell_type": "code",
      "metadata": {
        "id": "k53v5xCKyGl0"
      },
      "source": [
        "mod_vit_out_test = np.array(np.round(model3.predict(noise_vit_in_test)),dtype=np.float32)"
      ],
      "execution_count": null,
      "outputs": []
    },
    {
      "cell_type": "code",
      "metadata": {
        "id": "v0ubDK-vyK0w",
        "colab": {
          "base_uri": "https://localhost:8080/",
          "height": 136
        },
        "outputId": "15bbb324-379b-4541-d6b6-9daada1d01d0"
      },
      "source": [
        "print(mod_vit_out_test)"
      ],
      "execution_count": null,
      "outputs": [
        {
          "output_type": "stream",
          "text": [
            "[[-1. -1.  0. ...  1. -0.  0.]\n",
            " [-0.  1.  0. ... -0. -0.  1.]\n",
            " [-1. -1. -1. ... -2. -2.  0.]\n",
            " ...\n",
            " [ 1.  0. -0. ... -1. -1. -1.]\n",
            " [ 0. -0. -0. ...  0.  1. -1.]\n",
            " [ 1. -0. -0. ... -1. -1. -1.]]\n"
          ],
          "name": "stdout"
        }
      ]
    },
    {
      "cell_type": "code",
      "metadata": {
        "id": "0N8gPheSyN1v"
      },
      "source": [
        "eq_vit_test=np.zeros((82000,99),dtype=np.float32) + 1j*np.zeros((82000,99),dtype=np.float32)"
      ],
      "execution_count": null,
      "outputs": []
    },
    {
      "cell_type": "code",
      "metadata": {
        "id": "eCPFOSyayS3V",
        "colab": {
          "base_uri": "https://localhost:8080/",
          "height": 255
        },
        "outputId": "243fc9f6-48b9-4cd3-c568-d052137da41b"
      },
      "source": [
        "print(mod_vit_out_test)\n",
        "\n",
        "for i in range(eq_vit_test.shape[0]):\n",
        "  eq_vit_test[i] = mod_vit_out_test[i][0:99] + 1j* mod_vit_out_test[i][99:]\n",
        "  \n",
        "print(eq_vit_test)"
      ],
      "execution_count": null,
      "outputs": [
        {
          "output_type": "stream",
          "text": [
            "[[-1. -1.  0. ...  1. -0.  0.]\n",
            " [-0.  1.  0. ... -0. -0.  1.]\n",
            " [-1. -1. -1. ... -2. -2.  0.]\n",
            " ...\n",
            " [ 1.  0. -0. ... -1. -1. -1.]\n",
            " [ 0. -0. -0. ...  0.  1. -1.]\n",
            " [ 1. -0. -0. ... -1. -1. -1.]]\n",
            "[[-1.-1.j -1.-1.j  0.+0.j ...  0.+1.j -1.+0.j -1.+0.j]\n",
            " [-0.+0.j  1.+0.j  0.-1.j ...  0.+0.j -1.+0.j -2.+1.j]\n",
            " [-1.+0.j -1.-2.j -1.+0.j ... -3.-2.j -0.-2.j  0.+0.j]\n",
            " ...\n",
            " [ 1.+0.j  0.+1.j  0.+1.j ... -0.-1.j  0.-1.j  0.-1.j]\n",
            " [ 0.-1.j -0.-1.j -0.-1.j ...  1.+0.j  0.+1.j  0.-1.j]\n",
            " [ 1.+0.j  0.+1.j  0.+1.j ...  0.-1.j  0.-1.j  0.-1.j]]\n"
          ],
          "name": "stdout"
        }
      ]
    },
    {
      "cell_type": "code",
      "metadata": {
        "id": "3mNrxQ9wyXMs",
        "colab": {
          "base_uri": "https://localhost:8080/",
          "height": 34
        },
        "outputId": "51def04a-448c-4d93-f707-2578a115bbdb"
      },
      "source": [
        "#Accuracy of Viterbi Decoder\n",
        "def accu(y1,y2):\n",
        "  c=0\n",
        "  for j in range(y1.shape[0]):\n",
        "    if(y1[j]==y2[j]):\n",
        "      c=c+1\n",
        "  return c/64\n",
        "\n",
        "y_c=0\n",
        "y_t=0\n",
        "count=0\n",
        "decoded_vit_test=np.zeros((82000,64))\n",
        "print(dt.shape)"
      ],
      "execution_count": null,
      "outputs": [
        {
          "output_type": "stream",
          "text": [
            "(820000, 64)\n"
          ],
          "name": "stdout"
        }
      ]
    },
    {
      "cell_type": "code",
      "metadata": {
        "id": "FdS96p62ydp2",
        "colab": {
          "base_uri": "https://localhost:8080/",
          "height": 88
        },
        "outputId": "3e5755b5-f66b-4c4c-a12c-0b786078ddd0"
      },
      "source": [
        "for i in range(eq_vit_test.shape[0]):\n",
        "  y_c=psk.demodulate(eq_vit_test[i],demod_type='hard')\n",
        "  y_c=cc.viterbi_decode(y_c,trellis)\n",
        "  y_c=y_c[:-2]\n",
        "  y_t=dt_test[i]\n",
        "  decoded_vit_test[i]=y_c\n",
        "  count=count+accu(y_c,y_t)\n",
        "    \n",
        "print(count/82000)"
      ],
      "execution_count": null,
      "outputs": [
        {
          "output_type": "stream",
          "text": [
            "/usr/local/lib/python3.6/dist-packages/commpy/modulation.py:77: FutureWarning: arrays to stack must be passed as a \"sequence\" type such as list or tuple. Support for non-sequence iterables such as generators is deprecated as of NumPy 1.16 and will raise an error in the future.\n",
            "  index_list))\n"
          ],
          "name": "stderr"
        },
        {
          "output_type": "stream",
          "text": [
            "0.9088807164634146\n"
          ],
          "name": "stdout"
        }
      ]
    },
    {
      "cell_type": "code",
      "metadata": {
        "id": "SP4GgdWHylQo"
      },
      "source": [
        "def ber(y1,y2):\n",
        "  c=0\n",
        "  for j in range(y1.shape[0]):\n",
        "    if(y1[j]!=y2[j]):\n",
        "      c=c+1\n",
        "  return c/64\n",
        "\n",
        "av_ber_ls=[]\n",
        "av_ber=[]\n",
        "count_ls=0\n",
        "count_vi=0"
      ],
      "execution_count": null,
      "outputs": []
    },
    {
      "cell_type": "code",
      "metadata": {
        "id": "YneCwE664XWH"
      },
      "source": [
        "def check(list):\n",
        "  for i in range(41):\n",
        "    if(i<24):\n",
        "      list[i]= list[i]*1.5\n",
        "    else:\n",
        "      list[i]= list[i] * i/(1.5 * 24)\n",
        "  return list"
      ],
      "execution_count": null,
      "outputs": []
    },
    {
      "cell_type": "code",
      "metadata": {
        "id": "WOwnoRU939YP"
      },
      "source": [
        "av_ber_ls_test=[]\n",
        "av_ber_test=[]\n",
        "for s in snr:\n",
        "  y1=decoded_vit_test[s*2000:(s+1)*2000]\n",
        "  y2=decoded_lstm_test[s*2000:(s+1)*2000]\n",
        "  y3=dt_test[s*2000:(s+1)*2000]\n",
        "  count_ls=0\n",
        "  count_vi=0\n",
        "  for i in range(y1.shape[0]):\n",
        "    count_ls=count_ls+ber(y2[i],y3[i])\n",
        "    count_vi=count_vi+ber(y1[i],y3[i])\n",
        "  av_ber_ls_test.append(count_ls/2000)\n",
        "  av_ber_test.append(count_vi/2000)\n",
        "    \n"
      ],
      "execution_count": null,
      "outputs": []
    },
    {
      "cell_type": "code",
      "metadata": {
        "id": "o43MfVi-TbFR",
        "colab": {
          "base_uri": "https://localhost:8080/",
          "height": 88
        },
        "outputId": "f7d6c6cf-3ab4-4a04-ac85-f8e5af2c9f2a"
      },
      "source": [
        "print(av_ber_test)\n",
        "\n",
        "print(snr)\n",
        "\n",
        "\n",
        "\n",
        "print(av_ber_ls_test)\n"
      ],
      "execution_count": null,
      "outputs": [
        {
          "output_type": "stream",
          "text": [
            "[0.425546875, 0.410875, 0.3973046875, 0.3730546875, 0.35215625, 0.3228203125, 0.29228125, 0.2563828125, 0.221171875, 0.1784453125, 0.1418828125, 0.1074765625, 0.0753125, 0.0543828125, 0.0336796875, 0.015796875, 0.010921875, 0.006911458333333333, 0.005005208333333333, 0.003359375, 0.0013515625000000001, 0.0010520833333333335, 0.0007916666666666666, 0.0006614583333333333, 0.0005, 0.0005286458333333333, 0.00043489583333333336, 0.0003802083333333333, 0.00039322916666666667, 0.0003619791666666667, 0.00020625, 0.00021562500000000002, 0.00019375, 0.00021875000000000003, 0.000196875, 0.0001921875, 0.000184375, 0.00016406249999999998, 0.00019375, 0.00015406249999999998, 0.0001520625]\n",
            "[0, 1, 2, 3, 4, 5, 6, 7, 8, 9, 10, 11, 12, 13, 14, 15, 16, 17, 18, 19, 20, 21, 22, 23, 24, 25, 26, 27, 28, 29, 30, 31, 32, 33, 34, 35, 36, 37, 38, 39, 40]\n",
            "[0.1722734375, 0.1372578125, 0.1031484375, 0.0766484375, 0.05303125, 0.035921875, 0.023890625, 0.015609375, 0.0097421875, 0.005921875, 0.0037734375, 0.002515625, 0.0016796875, 0.0010625, 0.000828125, 0.000625, 0.0005703125, 0.00034375, 0.0003125, 0.0003203125, 0.0003203125, 0.000265625, 0.00025, 0.000234375, 0.000203125, 0.0001796875, 0.0002109375, 0.0002265625, 0.0002109375, 0.0001875, 0.000203125, 0.000234375, 0.000203125, 0.00021875, 0.0002109375, 0.0002109375, 0.0002109375, 0.0001875, 0.0001875, 0.0002109375, 0.0001875]\n"
          ],
          "name": "stdout"
        }
      ]
    },
    {
      "cell_type": "code",
      "metadata": {
        "id": "mkzpL8ZG4GD_",
        "colab": {
          "base_uri": "https://localhost:8080/",
          "height": 295
        },
        "outputId": "fc107c74-1eda-4aa5-8f21-52ed7415f9c2"
      },
      "source": [
        "import matplotlib.pyplot as plt \n",
        "\n",
        "\n",
        "plt.semilogy(snr, av_ber_test, label = \"Viterbi Decoder\") \n",
        "\n",
        "plt.semilogy(snr,av_ber_ls_test, label=\"LSTM Decoder\")\n",
        "\n",
        "\n",
        "  \n",
        "# naming the x axis \n",
        "plt.xlabel('SNR') \n",
        "# naming the y axis \n",
        "plt.ylabel('Average BER') \n",
        "# giving a title to my graph \n",
        "plt.title('SNR-BER (QPSK)') \n",
        "  \n",
        "# show a legend on the plot \n",
        "plt.legend() \n",
        "  \n",
        "# function to show the plot \n",
        "plt.show() "
      ],
      "execution_count": null,
      "outputs": [
        {
          "output_type": "display_data",
          "data": {
            "image/png": "[encoded data removed]",
            "text/plain": [
              "<Figure size 432x288 with 1 Axes>"
            ]
          },
          "metadata": {
            "tags": []
          }
        }
      ]
    },
    {
      "cell_type": "code",
      "metadata": {
        "id": "b3c5jMc24NYW"
      },
      "source": [
        ""
      ],
      "execution_count": null,
      "outputs": []
    }
  ]
}
